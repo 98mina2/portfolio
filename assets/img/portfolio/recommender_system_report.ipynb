{
 "cells": [
  {
   "attachments": {},
   "cell_type": "markdown",
   "id": "a4282228",
   "metadata": {},
   "source": [
    "# Restaurant Recommender System\n",
    "\n",
    "**Authors**: Lyla Kiratiwudhikul, Mina Lee, Tom Zhang\n",
    "\n",
    "**Table of Contents**:\n",
    "\n",
    "1. Motivations and Objectives\n",
    "2. Data Overview and Preprocessing\n",
    "3. Exploratory Data Analysis\n",
    "4. Modeling\n",
    "    - Baseline Model\n",
    "    - Neural Collaborative Filtering (NCF) Model"
   ]
  },
  {
   "cell_type": "code",
   "execution_count": 1,
   "id": "134325ea",
   "metadata": {},
   "outputs": [],
   "source": [
    "from pprint import pprint\n",
    "from datetime import datetime\n",
    "\n",
    "import numpy as np\n",
    "import pandas as pd\n",
    "import seaborn as sns\n",
    "import matplotlib.pyplot as plt\n",
    "\n",
    "from surprise import Dataset, Reader, KNNWithMeans  # pip install scikit-surprise\n",
    "from surprise.model_selection import GridSearchCV\n",
    "\n",
    "from sklearn.model_selection import train_test_split\n",
    "from sklearn.preprocessing import LabelEncoder, MinMaxScaler\n",
    "from sklearn.decomposition import PCA\n",
    "from sklearn.cluster import DBSCAN\n",
    "from sklearn.metrics import silhouette_score\n",
    "\n",
    "from keras.models import Model\n",
    "from keras.layers import Input, Embedding, Flatten, Dot, Dense, Concatenate\n",
    "from keras.optimizers import Adam\n",
    "\n",
    "from textblob import TextBlob  # pip install textblob\n",
    "\n",
    "np.random.seed(209)\n",
    "t0 = datetime.now()"
   ]
  },
  {
   "attachments": {},
   "cell_type": "markdown",
   "id": "a93cea73",
   "metadata": {},
   "source": [
    "## Motivations and Objectives\n",
    "\n",
    "For the past few decades, with the fast growing market of digital platforms, \n",
    "companies have tried to customize the advertising of their products based on individual customers' preferences or interests. \n",
    "This practice has been utilized across various industries and companies, from the e-commerce site Amazon suggesting relevant products to the streaming platform Netflix recommending similar shows to their users' view history and profile. The recommendation systems help increase sales as the users are able to easily see and purchase recommended products that match their needs and preferences.\n",
    "\n",
    "In this project, we focus on devising a restaurant recommendation system (hereby referred to as “recommender”).\n",
    "We use data of restaurants and customer profiles from Yelp, a platform for crowd-sourced reviews about businesses.\n",
    "As an individual has unique restaurant preferences, such as cuisines, ambience, pets, diet types, and/or parking availability, we aim to build the recommender to recommend restaurants to users based on the insights gleaned from their reviews on the previous restaurants they have been to."
   ]
  },
  {
   "attachments": {},
   "cell_type": "markdown",
   "id": "24cf3810",
   "metadata": {},
   "source": [
    "## Data Overview\n",
    "\n",
    "The data is downloaded from [Yelp official website](https://www.yelp.com/dataset/documentation/main). There are three datasets relevant to our analysis and models: `business`, `review`, and `user` data. The `business` dataset contains information about the businesses including name, location, hours, average rating stars, hours, number of reviews, and other features such as cuisine types and parking availability. The `user` data include the user's friend mapping and all the metadata associated with the user such as number of upvotes. The `review` dataset records full review text data as well as the `user_id` who wrote the review and the `business_id` for which the review was written. There are 150,346 businesses and 6,990,280 reviews in the Yelp original datasets. Below is the list of features in the two raw datasets:\n",
    "\n",
    "**Business:**\n",
    "- `business_id`: business’s ID, string\n",
    "- `name`: business’s name, string\n",
    "- `address`: business’s full address, string\n",
    "- `city`: business’s city, string\n",
    "- `state`: business’s state, string, 2 character state code, if applicable\n",
    "- `postal_code`: business’s postal code, string\n",
    "- `latitude`: business’s latitude, float\n",
    "- `longitude`: business’s longitude, float\n",
    "- `stars`: business’s average stars rating, float (ranging from 1 to 5, with 0.5 increment)\n",
    "- `review_count`: business’s number of reviews, integer\n",
    "- `is_open`\t: whether the business is open or closed; 0 or 1 for closed or open, integer\n",
    "- `attributes`: business’s features (e.g whether it offers parking, whether it accept credit cards, etc), JSON object\n",
    "- `categories`: business’s categories (e.g. “Mexican”, “Burger”, etc), array of strings\n",
    "- `hours`: business’s working hours, object of key day (Monday-Sunday) to value hours\n",
    "\n",
    "**Review:**\n",
    "- `review_id`: unique review ID, string\n",
    "- `user_id`: 22 character user’s ID, string\n",
    "- `business_id`: 22 character business’s ID, string\n",
    "- `stars`: business’s stars rating, integer (1 to 5)\n",
    "- `useful`: number of useful votes received, integer\n",
    "- `integer`: number of funny votes received, integer\n",
    "- `cool`: number of cool votes received, integer\t\n",
    "- `text`: review itself, string\n",
    "- `date`: date format YYYY-MM-DD, string\n",
    "\n",
    "**User:**\n",
    "- `user_id`: 22 character user’s ID, string\n",
    "- `name`: user's first name, string \n",
    "- `review_count`: number of reviews they've written, int  \n",
    "- `yelping_since`: date the user joined Yelp, string in format YYYY-MM-DD\n",
    "- `useful`: number of useful votes sent by the user, int \n",
    "- `funny`: number of funny votes sent by the user, int \n",
    "- `cool`: number of cool votes sent by the user, int \n",
    "- `elite`: the years the user was elite, array of integers, \n",
    "- `friends`: an array of the user's friend as user_ids, array of strings \n",
    "- `fans`: number of fans the user has, int \n",
    "- `average_stars`: average rating of all reviews, float\n",
    "- `compliment_hot`: number of hot compliments received by the user, int\n",
    "- `compliment_more`: number of more compliments received by the user, int  \n",
    "- `compliment_profile`: number of profile compliments received by the user, int \n",
    "- `compliment_cute`: number of cute compliments received by the user, int\n",
    "- `compliment_list`: number of list compliments received by the user, int\n",
    "- `compliment_note`: number of note compliments received by the user, int\n",
    "- `compliment_plain`: number of plain compliments received by the user, int\n",
    "- `compliment_cool`: number of cool compliments received by the user, int\n",
    "- `compliment_funny`: number of funny compliments received by the user, int \n",
    "- `compliment_writer`: number of writer compliments received by the user, int\n",
    "- `compliment_photos`: number of photo compliments received by the user, int"
   ]
  },
  {
   "attachments": {},
   "cell_type": "markdown",
   "id": "45272826",
   "metadata": {},
   "source": [
    "### Data Preparation\n",
    "\n",
    "**Business:**\n",
    "\n",
    "As the main goal of this project is to build a recommender system that suggests top restaurants and their offerings based on user location, we have excluded the entries that are not classified as restaurants such as “spas”, “hotels”, and “hair salons” by dropping all rows whose `categories` do not contain any of the following keywords: “food”, “restaurant”, “bar”, “pubs”, “restaurant”, “tea”, and “coffee”. This has decreased the number of entries from 150,346 to 69,253.\n",
    "\n",
    "Further, we have expanded `attributes` columns based on the JSON objects given. The first attempt returned 39 new columns. However, some of the expanded features contained nested JSON objects, so we further expanded `BusinessParking`, `Ambience`, `DietaryRestrictons`, and `Music` features and concatenated them to the other attributes, resulting in final 62 columns.\n",
    "\n",
    "In addition, the missing values in original and newly created attributes based features are filled with `None`, indicating that the information is not available. We decided to impute the missing values this way instead of mode imputation method because there are users who might be indifferent regarding the missing attributes and those who are concerned about them (e.g. whether there is parking or not).\n",
    "\n",
    "For `hours`, an expansion of operating hour objects into seven days was performed first. For the 9,710 missing entries for hours, we imputed the operating hours with the modes of the dataset for businesses whose value for the hours column was completely missing and imputed with `\"closed\"` for businesses whose hours are available for only some days and are not provided for the other days (i.e. we assumed that these restaurants are closed on the missing days).\n",
    "\n",
    "Furthermore, there are a few states that have only one business in our dataset, which are not suitable for our recommender task, and we have, thus, decided to drop these states with only one business: North Carolina, Colorado, Hawaii, Montana, and South Dakota.\n",
    "\n",
    "The final dataset for the business records has a total of 84 features with 68,054 entries. The business dataset has a total of five numeric features (`latitude`, `longitude`, `stars`, `review_count`, `is_open`). However, since `is_open` is a binary feature and `latitude` and `longitude` are useful in their original states. Only `stars` and `review_count` have been standardized to prevent any potential bias from large scales.\n",
    "\n",
    "\n",
    "**Review:**\n",
    "\n",
    "For the review dataset, we have first filtered the dataset in accordance with the business dataset by filtering out reviews for irrelevant businesses (using `business_id`) that have been pre-processed out as described above. This has reduced the size of the review dataset from 6,990,280 to 5,257,329 entries. Since the review dataset do not have missing entries, no imputation or dropping related to missing values have been conducted. However, we have decided to standardize the numeric features (`stars`, `useful`, `funny`, `cool`) in the review dataset to prevent any larger scales dominating the analysis and leading to a biased result.\n",
    "\n",
    "\n",
    "**User:**\n",
    "\n",
    "For the user dataset, we first filtered the dataset by keeping only the reviewers that exist in the already processed review data as described previously. Note that there is no missing values in this dataset. We also performed feature simplication and engineering: The features `elite` and `friends` are lists of values. In the context of building our recommender system task, the specific values do not matter much, so we aggretated the two variables by transforming them into counts. Aggregating instead of splitting can also potentially reduce overfitting. We also converted `yelping_since` into `membership_days` to represent how long a user has been a member. We used `March 28,2023` as the baseline for \"today\". In addition, we standardized all the numeric features as preparation for our model.\n",
    "\n",
    "Note: the code for data preparation can be found in `business_dat_inspect.ipynb`, `review_data_inspect.ipynb`, and `user_data_inspect.ipynb`."
   ]
  },
  {
   "attachments": {},
   "cell_type": "markdown",
   "id": "d4b4e631",
   "metadata": {},
   "source": [
    "## Exploratory Data Analysis\n",
    "\n",
    "After cleaning the business data as described above, there are 68,054 restaurant-type businesses and 5,257,329 user reviews left in the datasets. Figure 1 shows that the restaurants in the dataset are located in 12 states with over 23% of them in Pennsylvania.\n",
    "\n",
    "<figure>\n",
    "<figcaption><strong>Figure 1</strong></figcaption>\n",
    "<img src=\"Figures/map_numrecords_by_state.png\"  width=\"700\">\n",
    "</figure>"
   ]
  },
  {
   "attachments": {},
   "cell_type": "markdown",
   "id": "81db5cc0",
   "metadata": {},
   "source": [
    "The average star (a rating ranging from 1 to 5 with 0.5 increment) of these restaurants is approximately 3.6 with around 75 reviews for each restaurant. "
   ]
  },
  {
   "cell_type": "code",
   "execution_count": 2,
   "id": "5af2345a",
   "metadata": {},
   "outputs": [
    {
     "name": "stdout",
     "output_type": "stream",
     "text": [
      "There are 68054 business records with 84 total features.\n"
     ]
    },
    {
     "data": {
      "text/html": [
       "<div>\n",
       "<style scoped>\n",
       "    .dataframe tbody tr th:only-of-type {\n",
       "        vertical-align: middle;\n",
       "    }\n",
       "\n",
       "    .dataframe tbody tr th {\n",
       "        vertical-align: top;\n",
       "    }\n",
       "\n",
       "    .dataframe thead th {\n",
       "        text-align: right;\n",
       "    }\n",
       "</style>\n",
       "<table border=\"1\" class=\"dataframe\">\n",
       "  <thead>\n",
       "    <tr style=\"text-align: right;\">\n",
       "      <th></th>\n",
       "      <th>original_index</th>\n",
       "      <th>business_id</th>\n",
       "      <th>name</th>\n",
       "      <th>address</th>\n",
       "      <th>city</th>\n",
       "      <th>state</th>\n",
       "      <th>postal_code</th>\n",
       "      <th>latitude</th>\n",
       "      <th>longitude</th>\n",
       "      <th>stars</th>\n",
       "      <th>...</th>\n",
       "      <th>music_live</th>\n",
       "      <th>music_video</th>\n",
       "      <th>music_karaoke</th>\n",
       "      <th>hours_Monday</th>\n",
       "      <th>hours_Tuesday</th>\n",
       "      <th>hours_Wednesday</th>\n",
       "      <th>hours_Thursday</th>\n",
       "      <th>hours_Friday</th>\n",
       "      <th>hours_Saturday</th>\n",
       "      <th>hours_Sunday</th>\n",
       "    </tr>\n",
       "  </thead>\n",
       "  <tbody>\n",
       "    <tr>\n",
       "      <th>0</th>\n",
       "      <td>3</td>\n",
       "      <td>MTSW4McQd7CbVtyjqoe9mw</td>\n",
       "      <td>St Honore Pastries</td>\n",
       "      <td>935 Race St</td>\n",
       "      <td>Philadelphia</td>\n",
       "      <td>PA</td>\n",
       "      <td>19107</td>\n",
       "      <td>39.955505</td>\n",
       "      <td>-75.155564</td>\n",
       "      <td>4.0</td>\n",
       "      <td>...</td>\n",
       "      <td>None</td>\n",
       "      <td>None</td>\n",
       "      <td>None</td>\n",
       "      <td>7:0-20:0</td>\n",
       "      <td>7:0-20:0</td>\n",
       "      <td>7:0-20:0</td>\n",
       "      <td>7:0-20:0</td>\n",
       "      <td>7:0-21:0</td>\n",
       "      <td>7:0-21:0</td>\n",
       "      <td>7:0-21:0</td>\n",
       "    </tr>\n",
       "    <tr>\n",
       "      <th>1</th>\n",
       "      <td>4</td>\n",
       "      <td>mWMc6_wTdE0EUBKIGXDVfA</td>\n",
       "      <td>Perkiomen Valley Brewery</td>\n",
       "      <td>101 Walnut St</td>\n",
       "      <td>Green Lane</td>\n",
       "      <td>PA</td>\n",
       "      <td>18054</td>\n",
       "      <td>40.338183</td>\n",
       "      <td>-75.471659</td>\n",
       "      <td>4.5</td>\n",
       "      <td>...</td>\n",
       "      <td>None</td>\n",
       "      <td>None</td>\n",
       "      <td>None</td>\n",
       "      <td>closed</td>\n",
       "      <td>closed</td>\n",
       "      <td>14:0-22:0</td>\n",
       "      <td>16:0-22:0</td>\n",
       "      <td>12:0-22:0</td>\n",
       "      <td>12:0-22:0</td>\n",
       "      <td>12:0-18:0</td>\n",
       "    </tr>\n",
       "    <tr>\n",
       "      <th>2</th>\n",
       "      <td>5</td>\n",
       "      <td>CF33F8-E6oudUQ46HnavjQ</td>\n",
       "      <td>Sonic Drive-In</td>\n",
       "      <td>615 S Main St</td>\n",
       "      <td>Ashland City</td>\n",
       "      <td>TN</td>\n",
       "      <td>37015</td>\n",
       "      <td>36.269593</td>\n",
       "      <td>-87.058943</td>\n",
       "      <td>2.0</td>\n",
       "      <td>...</td>\n",
       "      <td>None</td>\n",
       "      <td>None</td>\n",
       "      <td>None</td>\n",
       "      <td>0:0-0:0</td>\n",
       "      <td>6:0-22:0</td>\n",
       "      <td>6:0-22:0</td>\n",
       "      <td>6:0-22:0</td>\n",
       "      <td>9:0-0:0</td>\n",
       "      <td>9:0-22:0</td>\n",
       "      <td>8:0-22:0</td>\n",
       "    </tr>\n",
       "  </tbody>\n",
       "</table>\n",
       "<p>3 rows × 84 columns</p>\n",
       "</div>"
      ],
      "text/plain": [
       "   original_index             business_id                      name  \\\n",
       "0               3  MTSW4McQd7CbVtyjqoe9mw        St Honore Pastries   \n",
       "1               4  mWMc6_wTdE0EUBKIGXDVfA  Perkiomen Valley Brewery   \n",
       "2               5  CF33F8-E6oudUQ46HnavjQ            Sonic Drive-In   \n",
       "\n",
       "         address          city state postal_code   latitude  longitude  stars  \\\n",
       "0    935 Race St  Philadelphia    PA       19107  39.955505 -75.155564    4.0   \n",
       "1  101 Walnut St    Green Lane    PA       18054  40.338183 -75.471659    4.5   \n",
       "2  615 S Main St  Ashland City    TN       37015  36.269593 -87.058943    2.0   \n",
       "\n",
       "   ...  music_live  music_video music_karaoke hours_Monday  hours_Tuesday  \\\n",
       "0  ...        None         None          None     7:0-20:0       7:0-20:0   \n",
       "1  ...        None         None          None       closed         closed   \n",
       "2  ...        None         None          None      0:0-0:0       6:0-22:0   \n",
       "\n",
       "  hours_Wednesday hours_Thursday hours_Friday hours_Saturday hours_Sunday  \n",
       "0        7:0-20:0       7:0-20:0     7:0-21:0       7:0-21:0     7:0-21:0  \n",
       "1       14:0-22:0      16:0-22:0    12:0-22:0      12:0-22:0    12:0-18:0  \n",
       "2        6:0-22:0       6:0-22:0      9:0-0:0       9:0-22:0     8:0-22:0  \n",
       "\n",
       "[3 rows x 84 columns]"
      ]
     },
     "metadata": {},
     "output_type": "display_data"
    },
    {
     "data": {
      "text/html": [
       "<div>\n",
       "<style scoped>\n",
       "    .dataframe tbody tr th:only-of-type {\n",
       "        vertical-align: middle;\n",
       "    }\n",
       "\n",
       "    .dataframe tbody tr th {\n",
       "        vertical-align: top;\n",
       "    }\n",
       "\n",
       "    .dataframe thead th {\n",
       "        text-align: right;\n",
       "    }\n",
       "</style>\n",
       "<table border=\"1\" class=\"dataframe\">\n",
       "  <thead>\n",
       "    <tr style=\"text-align: right;\">\n",
       "      <th></th>\n",
       "      <th>stars</th>\n",
       "      <th>review_count</th>\n",
       "    </tr>\n",
       "  </thead>\n",
       "  <tbody>\n",
       "    <tr>\n",
       "      <th>count</th>\n",
       "      <td>68054.000000</td>\n",
       "      <td>68054.000000</td>\n",
       "    </tr>\n",
       "    <tr>\n",
       "      <th>mean</th>\n",
       "      <td>3.563949</td>\n",
       "      <td>74.619861</td>\n",
       "    </tr>\n",
       "    <tr>\n",
       "      <th>std</th>\n",
       "      <td>0.851437</td>\n",
       "      <td>169.900997</td>\n",
       "    </tr>\n",
       "    <tr>\n",
       "      <th>min</th>\n",
       "      <td>1.000000</td>\n",
       "      <td>5.000000</td>\n",
       "    </tr>\n",
       "    <tr>\n",
       "      <th>25%</th>\n",
       "      <td>3.000000</td>\n",
       "      <td>11.000000</td>\n",
       "    </tr>\n",
       "    <tr>\n",
       "      <th>50%</th>\n",
       "      <td>3.500000</td>\n",
       "      <td>27.000000</td>\n",
       "    </tr>\n",
       "    <tr>\n",
       "      <th>75%</th>\n",
       "      <td>4.000000</td>\n",
       "      <td>73.000000</td>\n",
       "    </tr>\n",
       "    <tr>\n",
       "      <th>max</th>\n",
       "      <td>5.000000</td>\n",
       "      <td>7568.000000</td>\n",
       "    </tr>\n",
       "  </tbody>\n",
       "</table>\n",
       "</div>"
      ],
      "text/plain": [
       "              stars  review_count\n",
       "count  68054.000000  68054.000000\n",
       "mean       3.563949     74.619861\n",
       "std        0.851437    169.900997\n",
       "min        1.000000      5.000000\n",
       "25%        3.000000     11.000000\n",
       "50%        3.500000     27.000000\n",
       "75%        4.000000     73.000000\n",
       "max        5.000000   7568.000000"
      ]
     },
     "execution_count": 2,
     "metadata": {},
     "output_type": "execute_result"
    }
   ],
   "source": [
    "busi_df = pd.read_feather(\"data/yelp_business_cleaned.feather\")\n",
    "print(f\"There are {busi_df.shape[0]} business records with {busi_df.shape[1]} total features.\")\n",
    "display(busi_df.head(3))\n",
    "busi_df[['stars', 'review_count']].describe()"
   ]
  },
  {
   "attachments": {},
   "cell_type": "markdown",
   "id": "e4797936",
   "metadata": {},
   "source": [
    "When looking at the distribution of rating stars, it is slightly left skewed with mode at $4.0$. On the other hand, the highly right skewed distribution of the number of reviews shown below indicates that a small number of restaurants are more popular than the others and have more reviews. Most users tend to rate restaurants between 3.0 and 4.5. Only a small fraction of them give out 1 star."
   ]
  },
  {
   "cell_type": "code",
   "execution_count": 3,
   "id": "1b1ee26f",
   "metadata": {},
   "outputs": [
    {
     "data": {
      "text/plain": [
       "Text(0, 0.5, 'Number of restaurants')"
      ]
     },
     "execution_count": 3,
     "metadata": {},
     "output_type": "execute_result"
    },
    {
     "data": {
      "image/png": "[encoded data removed]",
      "text/plain": [
       "<Figure size 1200x400 with 2 Axes>"
      ]
     },
     "metadata": {},
     "output_type": "display_data"
    }
   ],
   "source": [
    "fig, ax = plt.subplots(1, 2, figsize = (12, 4))\n",
    "sns.histplot(data = busi_df, x = 'review_count', \n",
    "             color = 'cornflowerblue', stat = 'percent',\n",
    "             log_scale = True, ax = ax[0])\n",
    "ax[0].set_title(\"Distribution of Number of Reviews\")\n",
    "ax[0].set_xlabel(\"Number of Reviews (log)\")\n",
    "\n",
    "sns.barplot(data = busi_df.groupby(['stars'])[['business_id']].agg('count').reset_index().astype({'stars': str}),\n",
    "            x = 'stars', \n",
    "            y = 'business_id',\n",
    "            color = 'cornflowerblue', ax = ax[1])\n",
    "ax[1].set_title(\"Distribution of Rating Stars\")\n",
    "ax[1].set_xlabel(\"Rating Stars\")\n",
    "ax[1].set_ylabel(\"Number of restaurants\")"
   ]
  },
  {
   "attachments": {},
   "cell_type": "markdown",
   "id": "fc1ef59c",
   "metadata": {},
   "source": [
    "Still, not all of the restaurants in the dataset are still in operation. About 30% of the businesses have been closed. This fact has an important implication for our recommender system. We may use data from restaurants that are now closed during training to gain more insights into what users like and dislike. However, we will not recommend users to a closed restaurant. "
   ]
  },
  {
   "cell_type": "code",
   "execution_count": 4,
   "id": "b3104d91",
   "metadata": {},
   "outputs": [
    {
     "data": {
      "text/plain": [
       "Text(0, 0.5, 'Percentage (%)')"
      ]
     },
     "execution_count": 4,
     "metadata": {},
     "output_type": "execute_result"
    },
    {
     "data": {
      "image/png": "[encoded data removed]",
      "text/plain": [
       "<Figure size 300x300 with 1 Axes>"
      ]
     },
     "metadata": {},
     "output_type": "display_data"
    }
   ],
   "source": [
    "# proportion of businesses that are still in operation\n",
    "in_oper = busi_df['is_open'].value_counts(normalize = True, sort = True, dropna = False)\n",
    "in_oper = in_oper.to_frame().reset_index()\n",
    "in_oper.rename(columns = {'is_open': 'proportion', 'index' : 'in operation'}, inplace = True)\n",
    "in_oper['in operation'] = in_oper['in operation'].map({1: \"Yes\", 0: \"No\"})\n",
    "in_oper['proportion'] = in_oper['proportion'] * 100\n",
    "\n",
    "fig, ax = plt.subplots(figsize = (3, 3))\n",
    "sns.barplot(data = in_oper,\n",
    "            x = 'in operation', y = \"proportion\", \n",
    "            order = ['Yes', 'No'],\n",
    "            color = \"cornflowerblue\")\n",
    "plt.title(\"Proportion of businesses that are still in operation\")\n",
    "plt.xlabel(\"In Operation\")\n",
    "plt.ylabel(\"Percentage (%)\")"
   ]
  },
  {
   "attachments": {},
   "cell_type": "markdown",
   "id": "ddae426d",
   "metadata": {},
   "source": [
    "The following describes some characteristics of the restaurants in the dataset that users might weigh when choosing a restaurant and hence might be a critical aspect for our recommender system: \n",
    "- More than half of the restaurants price their services below $30 and there are a small number of high-end restaurants (pricing over $61).\n",
    "- In addition, for customers who have cars, over 60 percent of the restaurants indicate that they have at least one parking option (e.g. on street, parking lots, valet, etc.). \n",
    "- We believe that certain users have dietary restrictions and so we look at the special diet types that restaurants offer. The data shows that more than $99\\%$ of restaurants do not indicate their dietary accommodations on Yelp. Yet, for those whom we do have data, gluten-free, vegetarian, and vegan are the top 3 most available options. \n",
    "- There are only about $5\\%$ of restaurants that are dog-friendly. This feature might be important for dog owners who want to eat out and bring their dogs with them. \n",
    "\n",
    "Regardless, we must use these characteristics with caution as the information for the majority of businesses on our dataset is not available.\n"
   ]
  },
  {
   "cell_type": "code",
   "execution_count": 5,
   "id": "096f9646",
   "metadata": {},
   "outputs": [
    {
     "data": {
      "text/plain": [
       "Text(0, 0.5, 'Percentage (%)')"
      ]
     },
     "execution_count": 5,
     "metadata": {},
     "output_type": "execute_result"
    },
    {
     "data": {
      "image/png": "[encoded data removed]",
      "text/plain": [
       "<Figure size 1200x1000 with 4 Axes>"
      ]
     },
     "metadata": {},
     "output_type": "display_data"
    }
   ],
   "source": [
    "### Price ranges\n",
    "label_map = {\"1\": \"under $10\",\n",
    "             \"2\": \"$11-30\",\n",
    "             \"3\": \"$31-60\",\n",
    "             \"4\": \"over $61\",\n",
    "             \"None\": \"N/A\"}\n",
    "priceranges = busi_df['RestaurantsPriceRange2'].map(label_map).value_counts(normalize = True, sort = True, dropna = False)\n",
    "priceranges = priceranges.to_frame().reset_index()\n",
    "priceranges.rename(columns = {'RestaurantsPriceRange2': 'proportion', 'index' : 'price range'}, inplace = True)\n",
    "priceranges['proportion'] = priceranges['proportion'] * 100\n",
    "# priceranges\n",
    "\n",
    "busi_df['has_parking'] = busi_df[['parking_garage', 'parking_street', \n",
    "                        'parking_validated', 'parking_lot', \n",
    "                        'parking_valet']].replace({\"None\": np.nan,\n",
    "                                                \"True\": 1, \n",
    "                                                \"False\": 0}).max(axis = 1)\n",
    "parking_stat = busi_df['has_parking'].value_counts(dropna = False, normalize = True).to_frame().reset_index()\n",
    "parking_stat.rename(columns = {'has_parking': 'proportion', 'index' : 'has_parking'}, inplace = True)\n",
    "parking_stat['has_parking'] = parking_stat['has_parking'].map({1: \"Yes\", 0: \"No\"})\n",
    "parking_stat['has_parking'].fillna(\"N/A\", inplace = True)\n",
    "parking_stat['proportion'] = parking_stat['proportion'] * 100\n",
    "# parking_stat\n",
    "\n",
    "diets = busi_df[['diet_dairy-free', 'diet_gluten-free',\n",
    "                'diet_vegan', 'diet_kosher',\n",
    "                'diet_halal', 'diet_soy-free',\n",
    "                'diet_vegetarian']].replace({\"None\": np.nan,\n",
    "                                        \"True\": 1, \n",
    "                                        \"False\": 0})\n",
    "val_count_list = []\n",
    "for d in list(diets.columns):\n",
    "    count = diets[d].value_counts(dropna = False, normalize = True).to_frame()\n",
    "    val_count_list.append(count)\n",
    "diets_counts = pd.concat(val_count_list, axis = 1)\n",
    "diets_counts.reset_index(inplace = True)\n",
    "diets_counts['index'] = diets_counts['index'].map({1: \"Yes\", 0: \"No\"})\n",
    "diets_counts['index'].fillna(\"N/A\", inplace = True)\n",
    "diets_counts = diets_counts.melt(id_vars = ['index'], \n",
    "                                 var_name = \"diet type\",\n",
    "                                 value_name = 'proportion'\n",
    "                                 )\n",
    "diets_counts = diets_counts[diets_counts['index'] != \"N/A\"]\n",
    "diets_counts['proportion'] = diets_counts['proportion'] * 100\n",
    "diets_counts['diet type'] = diets_counts['diet type'].str.replace(\"diet_\", \"\")\n",
    "diets_counts.sort_values([\"index\", \"proportion\"], ascending = [False, False], inplace = True)\n",
    "# diets_counts\n",
    "\n",
    "dog_allow = busi_df['DogsAllowed'].value_counts(normalize = True, sort = True, dropna = False)\n",
    "dog_allow = dog_allow.to_frame().reset_index()\n",
    "dog_allow.rename(columns = {'DogsAllowed': 'proportion', 'index' : 'Allowing dogs'}, inplace = True)\n",
    "dog_allow['Allowing dogs'] = dog_allow['Allowing dogs'].map({\"True\": \"Yes\", \"False\": \"No\", \"None\": \"N/A\"})\n",
    "dog_allow['proportion'] = dog_allow['proportion'] * 100\n",
    "# dog_allow\n",
    "\n",
    "\n",
    "fig, ax = plt.subplots(2, 2, figsize = (12, 10))\n",
    "ax = ax.ravel()\n",
    "sns.barplot(data = priceranges,\n",
    "            y = 'price range', x = \"proportion\", \n",
    "            order = [\"under $10\", \"$11-30\", \"$31-60\", \"over $61\", \"N/A\"],\n",
    "            color = \"cornflowerblue\", ax = ax[0])\n",
    "ax[0].set_title(\"Proportion of businesses by Price Ranges\")\n",
    "ax[0].set_ylabel(\"Price Range\")\n",
    "ax[0].set_xlabel(\"Percentage (%)\")\n",
    "\n",
    "sns.barplot(data = parking_stat,\n",
    "            x = 'has_parking', y = \"proportion\",\n",
    "            color = \"cornflowerblue\", ax = ax[1])\n",
    "ax[1].set_title(\"Proportion of businesses by parking availability\")\n",
    "ax[1].set_xlabel(\"Parking Availability\")\n",
    "ax[1].set_ylabel(\"Percentage\")\n",
    "\n",
    "sns.barplot(data = diets_counts,\n",
    "            x = 'proportion', y = \"diet type\",\n",
    "            hue = 'index',\n",
    "            palette = [\"cornflowerblue\", \"wheat\"], ax = ax[2])\n",
    "ax[2].set_title(\"Proportion of special diet types offered\")\n",
    "ax[2].set_xlabel(\"Percentage (%)\")\n",
    "ax[2].set_ylabel(\"Diet Type\")\n",
    "ax[2].legend(title = \"\")\n",
    "\n",
    "sns.barplot(data = dog_allow[dog_allow['Allowing dogs'] != \"N/A\"],\n",
    "            x = 'Allowing dogs', y = \"proportion\", \n",
    "            order = ['Yes', 'No'],\n",
    "            color = \"cornflowerblue\", ax = ax[3])\n",
    "ax[3].set_title(\"Proportion of restaurants that allow dogs\")\n",
    "ax[3].set_xlabel(\"Allowing Dogs\")\n",
    "ax[3].set_ylabel(\"Percentage (%)\")"
   ]
  },
  {
   "attachments": {},
   "cell_type": "markdown",
   "id": "766a2a8d",
   "metadata": {},
   "source": [
    "As for the 5,257,329 user review data, the average of all standardized numeric variables (`stars`, `useful`,`funny`,`cool`) are all close to 0. The only numerical distinction between these features are that they have distinct minimum and maximum values. This might be due to the overall distribution of each numerical value being extremely right skewed, meaning that only a few reviews have received high numbers of useful, funny, and cool votes from other users. "
   ]
  },
  {
   "cell_type": "code",
   "execution_count": 6,
   "id": "7d9a479d",
   "metadata": {},
   "outputs": [
    {
     "name": "stdout",
     "output_type": "stream",
     "text": [
      "There are 5257329 review records with 9 total features.\n"
     ]
    },
    {
     "data": {
      "text/html": [
       "<div>\n",
       "<style scoped>\n",
       "    .dataframe tbody tr th:only-of-type {\n",
       "        vertical-align: middle;\n",
       "    }\n",
       "\n",
       "    .dataframe tbody tr th {\n",
       "        vertical-align: top;\n",
       "    }\n",
       "\n",
       "    .dataframe thead th {\n",
       "        text-align: right;\n",
       "    }\n",
       "</style>\n",
       "<table border=\"1\" class=\"dataframe\">\n",
       "  <thead>\n",
       "    <tr style=\"text-align: right;\">\n",
       "      <th></th>\n",
       "      <th>review_id</th>\n",
       "      <th>user_id</th>\n",
       "      <th>business_id</th>\n",
       "      <th>stars</th>\n",
       "      <th>useful</th>\n",
       "      <th>funny</th>\n",
       "      <th>cool</th>\n",
       "      <th>text</th>\n",
       "      <th>date</th>\n",
       "    </tr>\n",
       "  </thead>\n",
       "  <tbody>\n",
       "    <tr>\n",
       "      <th>0</th>\n",
       "      <td>KU_O5udG6zpxOg-VcAEodg</td>\n",
       "      <td>mh_-eMZ6K5RLWhZyISBhwA</td>\n",
       "      <td>XQfwVwDr-v0ZS3_CbbE5Xw</td>\n",
       "      <td>3</td>\n",
       "      <td>0</td>\n",
       "      <td>0</td>\n",
       "      <td>0</td>\n",
       "      <td>If you decide to eat here, just be aware it is...</td>\n",
       "      <td>2018-07-07 22:09:11</td>\n",
       "    </tr>\n",
       "    <tr>\n",
       "      <th>1</th>\n",
       "      <td>saUsX_uimxRlCVr67Z4Jig</td>\n",
       "      <td>8g_iMtfSiwikVnbP2etR0A</td>\n",
       "      <td>YjUWPpI6HXG530lwP-fb2A</td>\n",
       "      <td>3</td>\n",
       "      <td>0</td>\n",
       "      <td>0</td>\n",
       "      <td>0</td>\n",
       "      <td>Family diner. Had the buffet. Eclectic assortm...</td>\n",
       "      <td>2014-02-05 20:30:30</td>\n",
       "    </tr>\n",
       "    <tr>\n",
       "      <th>2</th>\n",
       "      <td>AqPFMleE6RsU23_auESxiA</td>\n",
       "      <td>_7bHUi9Uuf5__HHc_Q8guQ</td>\n",
       "      <td>kxX2SOes4o-D3ZQBkiMRfA</td>\n",
       "      <td>5</td>\n",
       "      <td>1</td>\n",
       "      <td>0</td>\n",
       "      <td>1</td>\n",
       "      <td>Wow!  Yummy, different,  delicious.   Our favo...</td>\n",
       "      <td>2015-01-04 00:01:03</td>\n",
       "    </tr>\n",
       "  </tbody>\n",
       "</table>\n",
       "</div>"
      ],
      "text/plain": [
       "                review_id                 user_id             business_id  \\\n",
       "0  KU_O5udG6zpxOg-VcAEodg  mh_-eMZ6K5RLWhZyISBhwA  XQfwVwDr-v0ZS3_CbbE5Xw   \n",
       "1  saUsX_uimxRlCVr67Z4Jig  8g_iMtfSiwikVnbP2etR0A  YjUWPpI6HXG530lwP-fb2A   \n",
       "2  AqPFMleE6RsU23_auESxiA  _7bHUi9Uuf5__HHc_Q8guQ  kxX2SOes4o-D3ZQBkiMRfA   \n",
       "\n",
       "   stars  useful  funny  cool  \\\n",
       "0      3       0      0     0   \n",
       "1      3       0      0     0   \n",
       "2      5       1      0     1   \n",
       "\n",
       "                                                text                date  \n",
       "0  If you decide to eat here, just be aware it is... 2018-07-07 22:09:11  \n",
       "1  Family diner. Had the buffet. Eclectic assortm... 2014-02-05 20:30:30  \n",
       "2  Wow!  Yummy, different,  delicious.   Our favo... 2015-01-04 00:01:03  "
      ]
     },
     "metadata": {},
     "output_type": "display_data"
    },
    {
     "data": {
      "text/html": [
       "<div>\n",
       "<style scoped>\n",
       "    .dataframe tbody tr th:only-of-type {\n",
       "        vertical-align: middle;\n",
       "    }\n",
       "\n",
       "    .dataframe tbody tr th {\n",
       "        vertical-align: top;\n",
       "    }\n",
       "\n",
       "    .dataframe thead th {\n",
       "        text-align: right;\n",
       "    }\n",
       "</style>\n",
       "<table border=\"1\" class=\"dataframe\">\n",
       "  <thead>\n",
       "    <tr style=\"text-align: right;\">\n",
       "      <th></th>\n",
       "      <th>stars</th>\n",
       "      <th>useful</th>\n",
       "      <th>funny</th>\n",
       "      <th>cool</th>\n",
       "    </tr>\n",
       "  </thead>\n",
       "  <tbody>\n",
       "    <tr>\n",
       "      <th>count</th>\n",
       "      <td>5.257329e+06</td>\n",
       "      <td>5.257329e+06</td>\n",
       "      <td>5.257329e+06</td>\n",
       "      <td>5.257329e+06</td>\n",
       "    </tr>\n",
       "    <tr>\n",
       "      <th>mean</th>\n",
       "      <td>3.804201e+00</td>\n",
       "      <td>1.021837e+00</td>\n",
       "      <td>3.186590e-01</td>\n",
       "      <td>5.057937e-01</td>\n",
       "    </tr>\n",
       "    <tr>\n",
       "      <th>std</th>\n",
       "      <td>1.393488e+00</td>\n",
       "      <td>2.792205e+00</td>\n",
       "      <td>1.728878e+00</td>\n",
       "      <td>2.204489e+00</td>\n",
       "    </tr>\n",
       "    <tr>\n",
       "      <th>min</th>\n",
       "      <td>1.000000e+00</td>\n",
       "      <td>-1.000000e+00</td>\n",
       "      <td>-1.000000e+00</td>\n",
       "      <td>-1.000000e+00</td>\n",
       "    </tr>\n",
       "    <tr>\n",
       "      <th>25%</th>\n",
       "      <td>3.000000e+00</td>\n",
       "      <td>0.000000e+00</td>\n",
       "      <td>0.000000e+00</td>\n",
       "      <td>0.000000e+00</td>\n",
       "    </tr>\n",
       "    <tr>\n",
       "      <th>50%</th>\n",
       "      <td>4.000000e+00</td>\n",
       "      <td>0.000000e+00</td>\n",
       "      <td>0.000000e+00</td>\n",
       "      <td>0.000000e+00</td>\n",
       "    </tr>\n",
       "    <tr>\n",
       "      <th>75%</th>\n",
       "      <td>5.000000e+00</td>\n",
       "      <td>1.000000e+00</td>\n",
       "      <td>0.000000e+00</td>\n",
       "      <td>0.000000e+00</td>\n",
       "    </tr>\n",
       "    <tr>\n",
       "      <th>max</th>\n",
       "      <td>5.000000e+00</td>\n",
       "      <td>4.200000e+02</td>\n",
       "      <td>7.920000e+02</td>\n",
       "      <td>4.040000e+02</td>\n",
       "    </tr>\n",
       "  </tbody>\n",
       "</table>\n",
       "</div>"
      ],
      "text/plain": [
       "              stars        useful         funny          cool\n",
       "count  5.257329e+06  5.257329e+06  5.257329e+06  5.257329e+06\n",
       "mean   3.804201e+00  1.021837e+00  3.186590e-01  5.057937e-01\n",
       "std    1.393488e+00  2.792205e+00  1.728878e+00  2.204489e+00\n",
       "min    1.000000e+00 -1.000000e+00 -1.000000e+00 -1.000000e+00\n",
       "25%    3.000000e+00  0.000000e+00  0.000000e+00  0.000000e+00\n",
       "50%    4.000000e+00  0.000000e+00  0.000000e+00  0.000000e+00\n",
       "75%    5.000000e+00  1.000000e+00  0.000000e+00  0.000000e+00\n",
       "max    5.000000e+00  4.200000e+02  7.920000e+02  4.040000e+02"
      ]
     },
     "execution_count": 6,
     "metadata": {},
     "output_type": "execute_result"
    }
   ],
   "source": [
    "df_re = pd.read_feather(\"data/yelp_review_cleaned.feather\")\n",
    "print(f\"There are {df_re.shape[0]} review records with {df_re.shape[1]} total features.\")\n",
    "display(df_re.head(3))\n",
    "df_re[['stars', 'useful','funny','cool']].describe()"
   ]
  },
  {
   "cell_type": "code",
   "execution_count": 7,
   "id": "f0180ade",
   "metadata": {},
   "outputs": [
    {
     "name": "stdout",
     "output_type": "stream",
     "text": [
      "\n",
      "The mean stars is 3.8042 \n",
      "The mean number of useful is 1.0218 \n",
      "The mean number of funny is 0.3187 \n",
      "The mean number of cool is 0.5058 \n",
      "The minimum and maximum values of stars is 1.0000 and 5.0000\n",
      "The minimum and maximum values of useful is -1.0000 and 420.0000\n",
      "The minimum and maximum values of funny is -1.0000 and 792.0000\n",
      "The minimum and maximum values of cool is -1.0000 and 404.0000\n"
     ]
    }
   ],
   "source": [
    "mean_stars = df_re[\"stars\"].mean() \n",
    "mean_useful = df_re[\"useful\"].mean()\n",
    "mean_funny = df_re['funny'].mean()\n",
    "mean_cool = df_re['cool'].mean()\n",
    "\n",
    "min_stars = df_re['stars'].min()\n",
    "min_useful = df_re['useful'].min()\n",
    "min_funny = df_re['funny'].min()\n",
    "min_cool = df_re['cool'].min()\n",
    "\n",
    "max_stars = df_re['stars'].max()\n",
    "max_useful = df_re['useful'].max()\n",
    "max_funny = df_re['funny'].max()\n",
    "max_cool = df_re['cool'].max()\n",
    "\n",
    "print(\n",
    "    \"\\n\"\n",
    "    f\"The mean stars is {mean_stars:.4f} \\n\"\n",
    "    f\"The mean number of useful is {mean_useful:.4f} \\n\"\n",
    "    f\"The mean number of funny is {mean_funny:.4f} \\n\"\n",
    "    f\"The mean number of cool is {mean_cool:.4f} \\n\"\n",
    "    f\"The minimum and maximum values of stars is {min_stars:.4f} and {max_stars:.4f}\\n\"\n",
    "    f\"The minimum and maximum values of useful is {min_useful:.4f} and {max_useful:.4f}\\n\"\n",
    "    f\"The minimum and maximum values of funny is {min_funny:.4f} and {max_funny:.4f}\\n\"\n",
    "    f\"The minimum and maximum values of cool is {min_cool:.4f} and {max_cool:.4f}\"\n",
    ")"
   ]
  },
  {
   "attachments": {},
   "cell_type": "markdown",
   "id": "051395a8",
   "metadata": {},
   "source": [
    "Since `useful`, `funny`, `cool` features represent number of designated votes, we may notice that these numeric are correlated. From the correlation plot, `useful` and `cool` seem to be more correlated than other features and `stars` have little correlations with three other variables."
   ]
  },
  {
   "cell_type": "code",
   "execution_count": 8,
   "id": "c8fc488e",
   "metadata": {},
   "outputs": [
    {
     "name": "stderr",
     "output_type": "stream",
     "text": [
      "/var/folders/df/y6mck5f93m5_f04v7_qhxmp40000gn/T/ipykernel_75473/4131803778.py:1: FutureWarning: The default value of numeric_only in DataFrame.corr is deprecated. In a future version, it will default to False. Select only valid columns or specify the value of numeric_only to silence this warning.\n",
      "  cor = df_re.corr()\n"
     ]
    },
    {
     "data": {
      "image/png": "[encoded data removed]",
      "text/plain": [
       "<Figure size 640x480 with 2 Axes>"
      ]
     },
     "metadata": {},
     "output_type": "display_data"
    }
   ],
   "source": [
    "cor = df_re.corr()\n",
    "sns.heatmap(cor, cmap = 'Blues')\n",
    "plt.title(\"Review Dataset Correlation Map\")\n",
    "plt.show()"
   ]
  },
  {
   "attachments": {},
   "cell_type": "markdown",
   "id": "60bee50c",
   "metadata": {},
   "source": [
    "Below figures are to check the distribution of reviews by business, users, and states. The figures have been investigated by counting the numbers of reviews by distinct `user_id` and by `state` on corresponding the `business_id` after merging the columns of state, city, name, for the filtered business dataset (i.e. restaurants). By doing this, we can understand that there is an imbalance for the review dataset since some users have written more reviews than other users and some restaurants have received much larger quantities of reviews than others. \n",
    "\n",
    "Following information have been obtained from the plots:\n",
    "* A total of 1,532,233 users have written the 5,257,329 reviews on businesses in the dataset. \n",
    "* There are 76,869 users who have written more than 10 reviews on businesses. \n",
    "* Pennsylvania has the largest amount of reviews from the users on businesses, whereas Illinois has the smallest amount of reviews among the states we have in the dataset."
   ]
  },
  {
   "attachments": {},
   "cell_type": "markdown",
   "id": "cfac14a4",
   "metadata": {},
   "source": [
    "#### By business"
   ]
  },
  {
   "cell_type": "code",
   "execution_count": 9,
   "id": "c35e2f86",
   "metadata": {},
   "outputs": [
    {
     "name": "stdout",
     "output_type": "stream",
     "text": [
      "There are 68054 businesses received reviews.\n"
     ]
    },
    {
     "data": {
      "image/png": "[encoded data removed]",
      "text/plain": [
       "<Figure size 640x480 with 1 Axes>"
      ]
     },
     "metadata": {},
     "output_type": "display_data"
    }
   ],
   "source": [
    "# group by unique business id\n",
    "review_count_by_business = df_re.groupby('business_id')['review_id'].count().sort_values(ascending=False)\n",
    "plt.bar(np.arange(review_count_by_business.shape[0]), review_count_by_business);\n",
    "plt.title('Review Count by Business')\n",
    "plt.xlabel('Number of Reviews')\n",
    "plt.ylabel(\"Counts (number of businesses)\")\n",
    "print(f\"There are {len(review_count_by_business)} businesses received reviews.\")\n",
    "plt.show()"
   ]
  },
  {
   "attachments": {},
   "cell_type": "markdown",
   "id": "af8bf7ff",
   "metadata": {},
   "source": [
    "#### By states"
   ]
  },
  {
   "cell_type": "code",
   "execution_count": 10,
   "id": "87ffeff2",
   "metadata": {},
   "outputs": [
    {
     "name": "stdout",
     "output_type": "stream",
     "text": [
      "There are 5257329 review records with 12 total features.\n"
     ]
    },
    {
     "data": {
      "image/png": "[encoded data removed]",
      "text/plain": [
       "<Figure size 1000x800 with 1 Axes>"
      ]
     },
     "metadata": {},
     "output_type": "display_data"
    }
   ],
   "source": [
    "# merge business dataset to get state, city, name\n",
    "business = pd.read_feather(\"data/yelp_business_cleaned.feather\")\n",
    "merge = pd.merge(df_re, business, on='business_id', how='outer')\n",
    "merge = merge[['review_id', 'user_id', 'business_id', 'text', 'date', 'stars_x',\n",
    "       'useful', 'funny', 'cool','state','city','name']].rename(columns={'stars_x':'stars'})\n",
    "print(f\"There are {merge.shape[0]} review records with {merge.shape[1]} total features.\")\n",
    "\n",
    "# group by state in descending order\n",
    "state_count_by_business = merge.groupby('state')['business_id'].count().sort_values(ascending=False)\n",
    "\n",
    "# Pie plot to see the portion as well\n",
    "plt.figure(figsize=(10,8))\n",
    "colors = sns.color_palette('bright')[0:14]\n",
    "plt.pie(state_count_by_business.array, labels=state_count_by_business.index, colors = colors, autopct='%.0f%%')\n",
    "plt.title(\"Reviews Distribution by State\")\n",
    "plt.show()"
   ]
  },
  {
   "attachments": {},
   "cell_type": "markdown",
   "id": "b25fa23c",
   "metadata": {},
   "source": [
    "#### By users"
   ]
  },
  {
   "cell_type": "code",
   "execution_count": 11,
   "id": "5a85f6f8",
   "metadata": {},
   "outputs": [
    {
     "name": "stdout",
     "output_type": "stream",
     "text": [
      "1532233 users have written the 5257329 reviews on business in the dataset.\n",
      "There are 76869 users who have written more than 10 reviews on businesses.\n"
     ]
    },
    {
     "data": {
      "image/png": "[encoded data removed]",
      "text/plain": [
       "<Figure size 640x480 with 1 Axes>"
      ]
     },
     "metadata": {},
     "output_type": "display_data"
    }
   ],
   "source": [
    "# group by user id in descending order\n",
    "user_count = merge.groupby(by=[\"user_id\"])['business_id'].count().sort_values(ascending=False)\n",
    "# checking unique users\n",
    "print(f\"{len(user_count)} users have written the {merge.shape[0]} reviews on business in the dataset.\")\n",
    "\n",
    "# checking unique users with more than 10 reviews written\n",
    "user_count = user_count.to_frame()\n",
    "users_aboveten = user_count[user_count['business_id'] > 10]['business_id']\n",
    "print(f\"There are {users_aboveten.shape[0]} users who have written more than 10 reviews on businesses.\")\n",
    "\n",
    "# Plot the counts of reviews by users\n",
    "plt.bar(np.arange(users_aboveten.shape[0]), users_aboveten);\n",
    "plt.title('Review Counts by Users who have written reviews more than 10 times')\n",
    "plt.xlabel('Number of Reviews')\n",
    "plt.ylabel(\"Counts (number of users)\")\n",
    "plt.show()"
   ]
  },
  {
   "attachments": {},
   "cell_type": "markdown",
   "id": "e786e3f6",
   "metadata": {},
   "source": [
    "There is an obvious imbalance in the review dataset. However, mitigating class imbalance in this dataset can be considered improper since the number of reviews could be an indicator for the business’s popularity. Based on this assumption, both under-sampling of restaurants with more reviews and over-sampling (e.g. SMOTE) of restaurants with less reviews are inappropriate. Due to this reason, the class imbalance has been preserved for the review dataset."
   ]
  },
  {
   "attachments": {},
   "cell_type": "markdown",
   "id": "d874cc81-9b2a-402a-a8ef-d6ae6739d4d0",
   "metadata": {},
   "source": [
    "## Modeling\n",
    "\n",
    "Recommender systems are essentially information filtering systems which leverage statistical and machine learning models to learn user data (e.g. their past behaviors) and predict their current interests and preferences. There are roughly three main approaches to build a recommender system:\n",
    "\n",
    "1. **Collaborative filtering**: suggestions are based solely on the similarities among users, or, alternatively, among items. \n",
    "2. **Content-based filtering**: suggestions are based on additional information such as a description of the item and a profile of the user's preferences.\n",
    "3. **Hybrid**: a combination of the previous two approaches. \n",
    "\n",
    "Note that the collaborative filtering techniques can also be divided into two categories: **memory-based** and **model-based**. A memory-based approach makes predictions based solely on *memory* of past records by finding similarities or neighborhoods in users or items. A method-based approach assumes an underlying model to make predictions. \n",
    "\n",
    "Additionally, collaborative filtering can be further broken down into two types: **user-based** and **item-based**. The user-based collaborative filtering approach is based on an assumption that some users tend to share the same preferences. It basically group users into clusters given the information on ratings a user gave out. On the other hand, the item-based collaborative filtering makes predictions based on similarities among items that the users have previously rated. "
   ]
  },
  {
   "attachments": {},
   "cell_type": "markdown",
   "id": "aac336d7-d7e6-4219-8600-72b501f0371b",
   "metadata": {},
   "source": [
    "### Baseline Model\n",
    "\n",
    "For this project, we choose the memory based collaborative filtering method as our baseline model, since the collaborative filtering is well known for its simplicity and, yet, effectiveness. \n",
    "To create the baseline model, we will create a user-item matrix, in which the rows represent users and columns represent the items. From here, we can then make predictions after calculating similarities among items. To facilitate our implementation, we will rely on the recommendation system package [`scikit-surprise`](https://surpriselib.com/), particularly the `KNNWithMeans` method which takes into account the mean ratings of each user.\n",
    "\n",
    "We will explore both user-based and item-based approaches and try out different similarity metrics such as Mean Squared Difference (MSD) and cosine similarity. Note that the MSD similarity can be computed as follows:\n",
    "\n",
    "$$msd\\_sim(u, v) = \\frac{1}{msd(u, v) + 1} \\text{ where } msd(u,v) = \\frac{1}{|I_{uv}|} \\cdot \\sum_{i \\in I_{uv}} (r_{ui} - r_{vi})^2, $$\n",
    "\n",
    "$I_{uv}$ is the set of all items rated by both users $u$ and $v$, $r_{ui}$ the true rating of user $u$ for item $i$.\n",
    "\n",
    "First, import the cleaned dataset with 3 columns: `user_id`, `business_id`,  and`stars` where  each row corresponds to a user's rating for a particular restaurant."
   ]
  },
  {
   "cell_type": "code",
   "execution_count": 12,
   "id": "bdf862f9",
   "metadata": {},
   "outputs": [],
   "source": [
    "review_df = pd.read_feather('data/yelp_review_cleaned.feather')\n",
    "df = review_df.loc[:, ['user_id', 'business_id', 'stars']]"
   ]
  },
  {
   "attachments": {},
   "cell_type": "markdown",
   "id": "34fe0f7f",
   "metadata": {},
   "source": [
    "Due to resource limitation, we will sample only 10K records for our model:"
   ]
  },
  {
   "cell_type": "code",
   "execution_count": 13,
   "id": "d180c6d6",
   "metadata": {},
   "outputs": [
    {
     "data": {
      "text/html": [
       "<div>\n",
       "<style scoped>\n",
       "    .dataframe tbody tr th:only-of-type {\n",
       "        vertical-align: middle;\n",
       "    }\n",
       "\n",
       "    .dataframe tbody tr th {\n",
       "        vertical-align: top;\n",
       "    }\n",
       "\n",
       "    .dataframe thead th {\n",
       "        text-align: right;\n",
       "    }\n",
       "</style>\n",
       "<table border=\"1\" class=\"dataframe\">\n",
       "  <thead>\n",
       "    <tr style=\"text-align: right;\">\n",
       "      <th></th>\n",
       "      <th>user_id</th>\n",
       "      <th>business_id</th>\n",
       "      <th>stars</th>\n",
       "    </tr>\n",
       "  </thead>\n",
       "  <tbody>\n",
       "    <tr>\n",
       "      <th>1322294</th>\n",
       "      <td>0lpxU4Dfi8AeBt0SeCrEuw</td>\n",
       "      <td>tQKqrLs16Xi-lFrd3_CBAQ</td>\n",
       "      <td>1</td>\n",
       "    </tr>\n",
       "    <tr>\n",
       "      <th>4297632</th>\n",
       "      <td>5nw1Zc3fi_ehDJFd3mUEYA</td>\n",
       "      <td>nLxNJuvgoHQHn_IGYifRnw</td>\n",
       "      <td>1</td>\n",
       "    </tr>\n",
       "    <tr>\n",
       "      <th>2143059</th>\n",
       "      <td>7fDqaGdUMccXQ4bnPwR6yg</td>\n",
       "      <td>etaIhl-sduOKc6J_qHmmtA</td>\n",
       "      <td>3</td>\n",
       "    </tr>\n",
       "    <tr>\n",
       "      <th>3068250</th>\n",
       "      <td>GyFJNSJjI5aWww-D0Btcbw</td>\n",
       "      <td>GlKffg2PMtzByocI5OHIQA</td>\n",
       "      <td>3</td>\n",
       "    </tr>\n",
       "    <tr>\n",
       "      <th>1371839</th>\n",
       "      <td>o66iBwIWxfWPypnqfrHVNw</td>\n",
       "      <td>XVFUNtPWYpxhoWPtBQHFdQ</td>\n",
       "      <td>2</td>\n",
       "    </tr>\n",
       "  </tbody>\n",
       "</table>\n",
       "</div>"
      ],
      "text/plain": [
       "                        user_id             business_id  stars\n",
       "1322294  0lpxU4Dfi8AeBt0SeCrEuw  tQKqrLs16Xi-lFrd3_CBAQ      1\n",
       "4297632  5nw1Zc3fi_ehDJFd3mUEYA  nLxNJuvgoHQHn_IGYifRnw      1\n",
       "2143059  7fDqaGdUMccXQ4bnPwR6yg  etaIhl-sduOKc6J_qHmmtA      3\n",
       "3068250  GyFJNSJjI5aWww-D0Btcbw  GlKffg2PMtzByocI5OHIQA      3\n",
       "1371839  o66iBwIWxfWPypnqfrHVNw  XVFUNtPWYpxhoWPtBQHFdQ      2"
      ]
     },
     "execution_count": 13,
     "metadata": {},
     "output_type": "execute_result"
    }
   ],
   "source": [
    "sub = df.sample(10000, random_state = 42)\n",
    "sub.head()"
   ]
  },
  {
   "cell_type": "code",
   "execution_count": 14,
   "id": "a2ca75c8",
   "metadata": {},
   "outputs": [
    {
     "name": "stdout",
     "output_type": "stream",
     "text": [
      "Computing the cosine similarity matrix...\n",
      "Done computing similarity matrix.\n"
     ]
    },
    {
     "data": {
      "text/plain": [
       "<surprise.prediction_algorithms.knns.KNNWithMeans at 0x3c5833f70>"
      ]
     },
     "execution_count": 14,
     "metadata": {},
     "output_type": "execute_result"
    }
   ],
   "source": [
    "# load in data into scikit-surprise format\n",
    "reader = Reader(rating_scale=(1, 5))\n",
    "data = Dataset.load_from_df(sub, reader)\n",
    "\n",
    "# configs\n",
    "sim_options = {\n",
    "    \"name\": \"cosine\",  # to use item-based cosine similarity\n",
    "    \"user_based\": False,  # Compute similarities between items\n",
    "}\n",
    "\n",
    "algo = KNNWithMeans(sim_options=sim_options)\n",
    "\n",
    "trainingSet = data.build_full_trainset()\n",
    "algo.fit(trainingSet)"
   ]
  },
  {
   "cell_type": "code",
   "execution_count": 15,
   "id": "b202c46e",
   "metadata": {},
   "outputs": [
    {
     "data": {
      "text/plain": [
       "2.0"
      ]
     },
     "execution_count": 15,
     "metadata": {},
     "output_type": "execute_result"
    }
   ],
   "source": [
    "# predict some samples\n",
    "prediction = algo.predict(sub.iloc[4, 0], sub.iloc[4, 1])\n",
    "prediction.est"
   ]
  },
  {
   "attachments": {},
   "cell_type": "markdown",
   "id": "79b4faea",
   "metadata": {},
   "source": [
    "Here, we perform a hyperparameter grid search to optimize prediction errors:"
   ]
  },
  {
   "cell_type": "code",
   "execution_count": 16,
   "id": "fa4cf7f4",
   "metadata": {},
   "outputs": [
    {
     "name": "stdout",
     "output_type": "stream",
     "text": [
      "Computing the msd similarity matrix...\n",
      "Done computing similarity matrix.\n",
      "Computing the msd similarity matrix...\n",
      "Done computing similarity matrix.\n",
      "Computing the msd similarity matrix...\n",
      "Done computing similarity matrix.\n",
      "Computing the msd similarity matrix...\n",
      "Done computing similarity matrix.\n",
      "Computing the msd similarity matrix...\n",
      "Done computing similarity matrix.\n",
      "Computing the msd similarity matrix...\n",
      "Done computing similarity matrix.\n",
      "Computing the msd similarity matrix...\n",
      "Done computing similarity matrix.\n",
      "Computing the msd similarity matrix...\n",
      "Done computing similarity matrix.\n",
      "Computing the msd similarity matrix...\n",
      "Done computing similarity matrix.\n",
      "Computing the msd similarity matrix...\n",
      "Done computing similarity matrix.\n",
      "Computing the msd similarity matrix...\n",
      "Done computing similarity matrix.\n",
      "Computing the msd similarity matrix...\n",
      "Done computing similarity matrix.\n",
      "Computing the msd similarity matrix...\n",
      "Done computing similarity matrix.\n",
      "Computing the msd similarity matrix...\n",
      "Done computing similarity matrix.\n",
      "Computing the msd similarity matrix...\n",
      "Done computing similarity matrix.\n",
      "Computing the msd similarity matrix...\n",
      "Done computing similarity matrix.\n",
      "Computing the msd similarity matrix...\n",
      "Done computing similarity matrix.\n",
      "Computing the msd similarity matrix...\n",
      "Done computing similarity matrix.\n",
      "Computing the cosine similarity matrix...\n",
      "Done computing similarity matrix.\n",
      "Computing the cosine similarity matrix...\n",
      "Done computing similarity matrix.\n",
      "Computing the cosine similarity matrix...\n",
      "Done computing similarity matrix.\n",
      "Computing the cosine similarity matrix...\n",
      "Done computing similarity matrix.\n",
      "Computing the cosine similarity matrix...\n",
      "Done computing similarity matrix.\n",
      "Computing the cosine similarity matrix...\n",
      "Done computing similarity matrix.\n",
      "Computing the cosine similarity matrix...\n",
      "Done computing similarity matrix.\n",
      "Computing the cosine similarity matrix...\n",
      "Done computing similarity matrix.\n",
      "Computing the cosine similarity matrix...\n",
      "Done computing similarity matrix.\n",
      "Computing the cosine similarity matrix...\n",
      "Done computing similarity matrix.\n",
      "Computing the cosine similarity matrix...\n",
      "Done computing similarity matrix.\n",
      "Computing the cosine similarity matrix...\n",
      "Done computing similarity matrix.\n",
      "Computing the cosine similarity matrix...\n",
      "Done computing similarity matrix.\n",
      "Computing the cosine similarity matrix...\n",
      "Done computing similarity matrix.\n",
      "Computing the cosine similarity matrix...\n",
      "Done computing similarity matrix.\n",
      "Computing the cosine similarity matrix...\n",
      "Done computing similarity matrix.\n",
      "Computing the cosine similarity matrix...\n",
      "Done computing similarity matrix.\n",
      "Computing the cosine similarity matrix...\n",
      "Done computing similarity matrix.\n"
     ]
    }
   ],
   "source": [
    "sim_options = {\n",
    "    \"name\": [\"msd\", \"cosine\"],\n",
    "    \"min_support\": [3, 4, 5],\n",
    "    \"user_based\": [False, True],\n",
    "}\n",
    "\n",
    "param_grid = {\"sim_options\": sim_options}\n",
    "\n",
    "gs = GridSearchCV(KNNWithMeans, param_grid, measures=[\"rmse\", \"mse\", \"mae\"], cv=3)\n",
    "gs.fit(data)"
   ]
  },
  {
   "attachments": {},
   "cell_type": "markdown",
   "id": "73ab93f2",
   "metadata": {},
   "source": [
    "The best model has the MSE of 1.98 using the Mean Squared Difference similarity metric, minimum number of common items of 3, and user-based approach."
   ]
  },
  {
   "cell_type": "code",
   "execution_count": 17,
   "id": "e0484168-beac-414a-9a9b-640519d58949",
   "metadata": {},
   "outputs": [
    {
     "name": "stdout",
     "output_type": "stream",
     "text": [
      "best rmse: 1.9810003243914922\n",
      "best params: {'sim_options': {'name': 'msd', 'min_support': 3, 'user_based': False}}\n"
     ]
    }
   ],
   "source": [
    "print(f'best rmse: {gs.best_score[\"mse\"]}')\n",
    "print(f'best params: {gs.best_params[\"mse\"]}')"
   ]
  },
  {
   "attachments": {},
   "cell_type": "markdown",
   "id": "c5109aab",
   "metadata": {},
   "source": [
    "It is important to note that this type of collaborative filtering may suffer from three problems: data sparsity, scalability, and cold start. Oftentimes, the data is sparse, meaning that a user has rates only a small number of restaurants while there are thousands of restaurants avaiable in the dataset. The use of a user-item matrix also makes it difficult to scale up as the size of the data increases. Most importantly, because this approach relies on past information, it suffers from cold start problem where it cannot predict given a new user or item due to the lack of prior information."
   ]
  },
  {
   "attachments": {},
   "cell_type": "markdown",
   "id": "4808cf61-f408-43cc-a626-4d215c7f0712",
   "metadata": {},
   "source": [
    "### Neural Collaborative Filtering (NCF) Model\n",
    "\n",
    "The baseline model, which depends a 2-dimensional user-item interaction matrix, works by simply calculating similarity scores using a certain similarity metric and recommends items or restaurants based on these similarities. Now, we will create a more robust model by perfoming the following:\n",
    "\n",
    "- Extend the 2D user-item matrix into a four-dimensional tensor by attaching user features as well as item/restaurant features. \n",
    "- Train the model using a neural network architecture.\n",
    "\n",
    "This method is known as the **neural collaborative filtering (NCF)** approach. He et al. (2017) empirically shows that using deeper layers of neural networks provides better recommendation performance. "
   ]
  },
  {
   "attachments": {},
   "cell_type": "markdown",
   "id": "91c7637e-3bac-4dbf-bc1f-2c8e67220ee6",
   "metadata": {},
   "source": [
    "We will now load in datasets from all necessary sources: users, restaurants, and reviews:"
   ]
  },
  {
   "cell_type": "code",
   "execution_count": 18,
   "id": "6ccd2c63-4814-4aea-aa0e-5182439627b8",
   "metadata": {},
   "outputs": [
    {
     "name": "stdout",
     "output_type": "stream",
     "text": [
      "CPU times: user 5.8 s, sys: 8.42 s, total: 14.2 s\n",
      "Wall time: 38.9 s\n"
     ]
    }
   ],
   "source": [
    "%%time\n",
    "user_df = pd.read_feather('data/yelp_user_cleaned.feather')  # 100 MB\n",
    "business_df = pd.read_feather('data/yelp_business_cleaned.feather')  # 40 MB\n",
    "review_df = pd.read_feather('data/yelp_review_cleaned.feather')  # 2.3 GB"
   ]
  },
  {
   "cell_type": "code",
   "execution_count": 19,
   "id": "d58220b8-132a-4cf4-91f8-76605a44da70",
   "metadata": {},
   "outputs": [
    {
     "data": {
      "text/plain": [
       "((1532223,), (1532233,))"
      ]
     },
     "execution_count": 19,
     "metadata": {},
     "output_type": "execute_result"
    }
   ],
   "source": [
    "user_df.user_id.unique().shape, review_df.user_id.unique().shape"
   ]
  },
  {
   "cell_type": "code",
   "execution_count": 20,
   "id": "825c2283-d140-4f91-b15e-f2e9b12bd503",
   "metadata": {},
   "outputs": [
    {
     "data": {
      "text/plain": [
       "((68054,), (68054,))"
      ]
     },
     "execution_count": 20,
     "metadata": {},
     "output_type": "execute_result"
    }
   ],
   "source": [
    "business_df.business_id.unique().shape, review_df.business_id.unique().shape"
   ]
  },
  {
   "attachments": {},
   "cell_type": "markdown",
   "id": "3422d6b4-c242-4c02-811f-8b881c9c159d",
   "metadata": {},
   "source": [
    "Due to resource limitation, we sample 100K review records for model training."
   ]
  },
  {
   "cell_type": "code",
   "execution_count": 21,
   "id": "2277ec81-27f0-4107-9076-8508ae944ccf",
   "metadata": {},
   "outputs": [],
   "source": [
    "review_df = review_df.sample(100_000, random_state=42)"
   ]
  },
  {
   "attachments": {},
   "cell_type": "markdown",
   "id": "0ce77a53-0edd-4831-8ce0-d9a90f5caf5a",
   "metadata": {},
   "source": [
    "We use the review dataset to build our user-item matrix. Note that previously we only kept these columns for building user-item matrix: `['user_id', 'business_id', 'stars']`, but for the NCF model we include additional features from review data: `['useful', 'funny', 'cool']`."
   ]
  },
  {
   "cell_type": "code",
   "execution_count": 22,
   "id": "fd59946b-77ed-4910-aa2e-814cc39f53e4",
   "metadata": {},
   "outputs": [
    {
     "data": {
      "text/html": [
       "<div>\n",
       "<style scoped>\n",
       "    .dataframe tbody tr th:only-of-type {\n",
       "        vertical-align: middle;\n",
       "    }\n",
       "\n",
       "    .dataframe tbody tr th {\n",
       "        vertical-align: top;\n",
       "    }\n",
       "\n",
       "    .dataframe thead th {\n",
       "        text-align: right;\n",
       "    }\n",
       "</style>\n",
       "<table border=\"1\" class=\"dataframe\">\n",
       "  <thead>\n",
       "    <tr style=\"text-align: right;\">\n",
       "      <th></th>\n",
       "      <th>user_id</th>\n",
       "      <th>business_id</th>\n",
       "      <th>stars</th>\n",
       "      <th>useful</th>\n",
       "      <th>funny</th>\n",
       "      <th>cool</th>\n",
       "      <th>text</th>\n",
       "    </tr>\n",
       "  </thead>\n",
       "  <tbody>\n",
       "    <tr>\n",
       "      <th>1322294</th>\n",
       "      <td>0lpxU4Dfi8AeBt0SeCrEuw</td>\n",
       "      <td>tQKqrLs16Xi-lFrd3_CBAQ</td>\n",
       "      <td>1</td>\n",
       "      <td>2</td>\n",
       "      <td>0</td>\n",
       "      <td>0</td>\n",
       "      <td>My friends and I went there on a Friday night ...</td>\n",
       "    </tr>\n",
       "    <tr>\n",
       "      <th>4297632</th>\n",
       "      <td>5nw1Zc3fi_ehDJFd3mUEYA</td>\n",
       "      <td>nLxNJuvgoHQHn_IGYifRnw</td>\n",
       "      <td>1</td>\n",
       "      <td>1</td>\n",
       "      <td>0</td>\n",
       "      <td>0</td>\n",
       "      <td>Clean, friendly waitstaff.  The food, well, to...</td>\n",
       "    </tr>\n",
       "    <tr>\n",
       "      <th>2143059</th>\n",
       "      <td>7fDqaGdUMccXQ4bnPwR6yg</td>\n",
       "      <td>etaIhl-sduOKc6J_qHmmtA</td>\n",
       "      <td>3</td>\n",
       "      <td>2</td>\n",
       "      <td>0</td>\n",
       "      <td>2</td>\n",
       "      <td>Super swanky lunch spot in Clayton.  I love, l...</td>\n",
       "    </tr>\n",
       "  </tbody>\n",
       "</table>\n",
       "</div>"
      ],
      "text/plain": [
       "                        user_id             business_id  stars  useful  funny  \\\n",
       "1322294  0lpxU4Dfi8AeBt0SeCrEuw  tQKqrLs16Xi-lFrd3_CBAQ      1       2      0   \n",
       "4297632  5nw1Zc3fi_ehDJFd3mUEYA  nLxNJuvgoHQHn_IGYifRnw      1       1      0   \n",
       "2143059  7fDqaGdUMccXQ4bnPwR6yg  etaIhl-sduOKc6J_qHmmtA      3       2      0   \n",
       "\n",
       "         cool                                               text  \n",
       "1322294     0  My friends and I went there on a Friday night ...  \n",
       "4297632     0  Clean, friendly waitstaff.  The food, well, to...  \n",
       "2143059     2  Super swanky lunch spot in Clayton.  I love, l...  "
      ]
     },
     "execution_count": 22,
     "metadata": {},
     "output_type": "execute_result"
    }
   ],
   "source": [
    "review_df = review_df.loc[:, ['user_id', 'business_id', 'stars', 'useful', 'funny', 'cool', 'text']]\n",
    "review_df.head(3)"
   ]
  },
  {
   "cell_type": "code",
   "execution_count": 23,
   "id": "aee2062a-ec20-4f6d-8f5e-dbca908c22b2",
   "metadata": {},
   "outputs": [],
   "source": [
    "user_df.drop(['name'], axis=1, inplace=True)"
   ]
  },
  {
   "cell_type": "code",
   "execution_count": 24,
   "id": "7190f7c0-5484-4c2e-a2fb-2b8929e72125",
   "metadata": {},
   "outputs": [],
   "source": [
    "# why we rename it here and not use the suffixes for merging:\n",
    "# we will later need to know which features are related to users\n",
    "# keep a list of column names here is more convenient\n",
    "user_df.rename({'useful': 'useful_user',\n",
    "                'funny': 'funny_user',\n",
    "                'cool': 'cool_user',\n",
    "                'review_count': 'review_count_user'}, axis=1, inplace=True)"
   ]
  },
  {
   "cell_type": "code",
   "execution_count": 25,
   "id": "e6c427bc-1e4c-44f1-8156-f7f53e56c2ec",
   "metadata": {},
   "outputs": [],
   "source": [
    "# note: we've already expanded the dictionaries such as attributes in business_data_inspect.ipynb\n",
    "business_df.drop(['original_index', 'name', 'address', 'city', 'state',\n",
    "                  'postal_code', 'latitude', 'longitude',\n",
    "                  'attributes', 'categories', 'is_restaurant', 'GoodForMeal', 'BestNights'], axis=1, inplace=True)"
   ]
  },
  {
   "cell_type": "code",
   "execution_count": 26,
   "id": "64d6f792-1a52-46ce-90fd-4b8bf1867f17",
   "metadata": {},
   "outputs": [],
   "source": [
    "business_df.rename({'stars': 'stars_business',\n",
    "                    'review_count': 'review_count_business'}, axis=1, inplace=True)"
   ]
  },
  {
   "attachments": {},
   "cell_type": "markdown",
   "id": "30dd3722-08a0-4f1c-96d1-df4c416e0127",
   "metadata": {},
   "source": [
    "One-hot encode categorical features (except IDs) in the business dataset, and merge all three dataframes together:"
   ]
  },
  {
   "cell_type": "code",
   "execution_count": 27,
   "id": "9b221fdd-a6b1-46f5-8300-65907aa97970",
   "metadata": {},
   "outputs": [],
   "source": [
    "dummies = pd.get_dummies(business_df.drop('business_id', axis=1), drop_first=True)\n",
    "business_df = pd.concat([business_df.loc[:, ['business_id']], dummies], axis=1)"
   ]
  },
  {
   "cell_type": "code",
   "execution_count": 29,
   "id": "f395548f-8b30-4214-b6c9-75e66a67e771",
   "metadata": {},
   "outputs": [],
   "source": [
    "df = pd.merge(review_df, user_df, on='user_id')\n",
    "df = pd.merge(df, business_df, on='business_id')"
   ]
  },
  {
   "attachments": {},
   "cell_type": "markdown",
   "id": "53d22fab-2cf0-4907-ba45-67c8e5e61c24",
   "metadata": {},
   "source": [
    "For this part, we exclude the review text from our model training. We will include it back in for our model extension below:"
   ]
  },
  {
   "cell_type": "code",
   "execution_count": 31,
   "id": "3e01c8e9-b78c-4481-ba0a-a854763a33b7",
   "metadata": {},
   "outputs": [],
   "source": [
    "df.drop('text', axis=1, inplace=True)"
   ]
  },
  {
   "attachments": {},
   "cell_type": "markdown",
   "id": "020a62e3-5874-4e01-a041-67d98f3c2fe2",
   "metadata": {},
   "source": [
    "Again, we sample 10K records due to resource limitation:"
   ]
  },
  {
   "cell_type": "code",
   "execution_count": 33,
   "id": "0ab93dd2-fc62-490f-b377-17c3721bd32b",
   "metadata": {},
   "outputs": [
    {
     "data": {
      "text/plain": [
       "(10000, 7470)"
      ]
     },
     "execution_count": 33,
     "metadata": {},
     "output_type": "execute_result"
    }
   ],
   "source": [
    "df = df.sample(10_000, random_state=42).reset_index(drop=True)\n",
    "df.shape"
   ]
  },
  {
   "attachments": {},
   "cell_type": "markdown",
   "id": "33771437-8d6b-41c9-b090-f076ef62f9a5",
   "metadata": {},
   "source": [
    "Filter out unneeded rows in `user_df`, `business_df`, and `review_df` to match `df`:"
   ]
  },
  {
   "cell_type": "code",
   "execution_count": 34,
   "id": "46052de6-d65a-496c-a185-3670a4c03607",
   "metadata": {},
   "outputs": [],
   "source": [
    "user_df = user_df.loc[user_df['user_id'].isin(df['user_id']), :].copy().reset_index(drop=True)\n",
    "business_df = business_df.loc[business_df['business_id'].isin(df['business_id']), :].copy().reset_index(drop=True)\n",
    "review_df = review_df.loc[(review_df['user_id'].isin(df['user_id'])) & \\\n",
    "                    (review_df['business_id'].isin(df['business_id'])), :].copy().reset_index(drop=True)"
   ]
  },
  {
   "attachments": {},
   "cell_type": "markdown",
   "id": "9cb9523d-1b1f-47da-b38e-09f0ec1858cf",
   "metadata": {},
   "source": [
    "As mentioned above, we remove `text` from `review_df` for now, but save it for the later extension."
   ]
  },
  {
   "cell_type": "code",
   "execution_count": 35,
   "id": "4c9297b5-0915-4d44-9369-54c1cc3e195f",
   "metadata": {},
   "outputs": [],
   "source": [
    "review_text = review_df['text'].copy()\n",
    "review_df.drop('text', axis=1, inplace=True)"
   ]
  },
  {
   "attachments": {},
   "cell_type": "markdown",
   "id": "be5e0bda-5126-46eb-98b5-41383b22b1e6",
   "metadata": {},
   "source": [
    "Before model training, we have to encode `user_id` and `business_id` to convert string into integers:"
   ]
  },
  {
   "cell_type": "code",
   "execution_count": 37,
   "id": "5c554003-ef6e-4e87-ae1d-f5dccb1b73ab",
   "metadata": {},
   "outputs": [],
   "source": [
    "user_id_encoder = LabelEncoder()\n",
    "business_id_encoder = LabelEncoder()\n",
    "\n",
    "user_df['user_id'] = user_id_encoder.fit_transform(user_df['user_id'])\n",
    "review_df['user_id'] = user_id_encoder.transform(review_df['user_id'])\n",
    "business_df['business_id'] = business_id_encoder.fit_transform(business_df['business_id'])\n",
    "review_df['business_id'] = business_id_encoder.transform(review_df['business_id'])\n",
    "\n",
    "df['user_id'] = user_id_encoder.transform(df['user_id'])\n",
    "df['business_id'] = business_id_encoder.transform(df['business_id'])"
   ]
  },
  {
   "attachments": {},
   "cell_type": "markdown",
   "id": "b9089c54-58c7-4900-9e85-9114621e66a4",
   "metadata": {},
   "source": [
    "We split train and test sets with the test size of 20% and scale the numerical features:"
   ]
  },
  {
   "cell_type": "code",
   "execution_count": 38,
   "id": "15c3003b-1cbe-4efb-a847-c3b84be59650",
   "metadata": {},
   "outputs": [],
   "source": [
    "df_train, df_test = train_test_split(df, test_size=0.2, random_state=42)"
   ]
  },
  {
   "cell_type": "code",
   "execution_count": 39,
   "id": "90db75ed-a46f-4c26-87e6-6a658a91f10e",
   "metadata": {},
   "outputs": [],
   "source": [
    "def feature_scaling(df_train, df_test):\n",
    "    # save stars (target, do not scale)\n",
    "    stars_train = df_train['stars'].copy()\n",
    "    stars_test = df_test['stars'].copy()\n",
    "\n",
    "    # scale features\n",
    "    scaler = MinMaxScaler()\n",
    "    df_train = scaler.fit_transform(df_train)\n",
    "    df_test = scaler.transform(df_test)\n",
    "\n",
    "    # convert back to data frames\n",
    "    df_train = pd.DataFrame(df_train, columns=df.columns)\n",
    "    df_test = pd.DataFrame(df_test, columns=df.columns)\n",
    "\n",
    "    # restore stars\n",
    "    df_train['stars'] = stars_train.values\n",
    "    df_test['stars'] = stars_test.values\n",
    "\n",
    "    return df_train, df_test"
   ]
  },
  {
   "cell_type": "code",
   "execution_count": 40,
   "id": "ca1960a7-6799-4e38-9caf-5c22745b3bff",
   "metadata": {},
   "outputs": [],
   "source": [
    "df_train, df_test = feature_scaling(df_train, df_test)"
   ]
  },
  {
   "attachments": {},
   "cell_type": "markdown",
   "id": "1cb4ae54-0c78-44c1-b97d-d39eb8483c5b",
   "metadata": {},
   "source": [
    "We build a neural network model following the architecture drawn below in Figure 2:\n",
    "\n",
    "<figure>\n",
    "<figcaption><strong>Figure 2</strong></figcaption>\n",
    "<img src=\"Figures/model_architecture.png\"  width=\"700\">\n",
    "</figure>"
   ]
  },
  {
   "cell_type": "code",
   "execution_count": 41,
   "id": "358d6869-7dee-4985-8553-c23cc2a8a6b2",
   "metadata": {},
   "outputs": [],
   "source": [
    "def build_model(df=df, user_df=user_df, business_df=business_df):\n",
    "    # helper constants\n",
    "    num_users = df['user_id'].nunique()\n",
    "    num_businesses = df['business_id'].nunique()\n",
    "    \n",
    "    # Model architecture:\n",
    "    \n",
    "    # embeddings for id's\n",
    "    user_input = Input(shape=(1,), name='user_input')\n",
    "    user_embedding = Embedding(num_users, 16, name='user_embedding')(user_input)\n",
    "    user_flatten = Flatten(name='user_flatten')(user_embedding)\n",
    "\n",
    "    business_input = Input(shape=(1,), name='business_input')\n",
    "    business_embedding = Embedding(num_businesses, 16, name='business_embedding')(business_input)\n",
    "    business_flatten = Flatten(name='business_flatten')(business_embedding)\n",
    "\n",
    "    dot_product = Dot(axes=1, name='dot_product')([user_flatten, business_flatten])\n",
    "\n",
    "    # add in user and business features\n",
    "    user_features_input = Input(shape=(user_df.shape[1] - 1,), name='user_features_input')\n",
    "    business_features_input = Input(shape=(business_df.shape[1] - 1,), name='business_features_input')\n",
    "    concat_features = Concatenate(name='concat_features')([dot_product, user_features_input, business_features_input])\n",
    "\n",
    "    dense_layer = Dense(64, activation='relu', name='dense_layer')(concat_features)\n",
    "    output = Dense(1, activation='linear', name='output')(dense_layer)\n",
    "\n",
    "    model = Model(inputs=[user_input, business_input, user_features_input, business_features_input], outputs=output)\n",
    "    model.compile(optimizer=Adam(0.0001), loss='mean_squared_error')\n",
    "    \n",
    "    return model"
   ]
  },
  {
   "cell_type": "code",
   "execution_count": 42,
   "id": "67335e7d-4d67-45e1-8b05-c1b565135398",
   "metadata": {},
   "outputs": [],
   "source": [
    "model = build_model()"
   ]
  },
  {
   "attachments": {},
   "cell_type": "markdown",
   "id": "eac842de-2ba7-4214-b2eb-abf71379c82b",
   "metadata": {},
   "source": [
    "Train the model using 15 epochs and validation split of size 10%."
   ]
  },
  {
   "cell_type": "code",
   "execution_count": 43,
   "id": "cb11cda5-9cdf-41bc-8e40-3a6168cb9794",
   "metadata": {},
   "outputs": [],
   "source": [
    "def train_model(model, df_train=df_train, user_df=user_df, business_df=business_df):\n",
    "    train_inputs = [\n",
    "        df_train['user_id'].values,\n",
    "        df_train['business_id'].values,\n",
    "        df_train[user_df.columns[1:]].values,\n",
    "        df_train[business_df.columns[1:]].values\n",
    "    ]\n",
    "\n",
    "    model.fit(train_inputs, df_train['stars'].values, epochs=15, validation_split=0.1)"
   ]
  },
  {
   "cell_type": "code",
   "execution_count": 44,
   "id": "5f8df035-dd99-4577-8e68-388afa5c33c9",
   "metadata": {},
   "outputs": [
    {
     "name": "stdout",
     "output_type": "stream",
     "text": [
      "Epoch 1/15\n"
     ]
    },
    {
     "name": "stderr",
     "output_type": "stream",
     "text": [
      "2023-05-07 02:56:18.139251: W tensorflow/tsl/platform/profile_utils/cpu_utils.cc:128] Failed to get CPU frequency: 0 Hz\n"
     ]
    },
    {
     "name": "stdout",
     "output_type": "stream",
     "text": [
      "225/225 [==============================] - 4s 17ms/step - loss: 4.9440 - val_loss: 2.0735\n",
      "Epoch 2/15\n",
      "225/225 [==============================] - 1s 3ms/step - loss: 1.9362 - val_loss: 1.9881\n",
      "Epoch 3/15\n",
      "225/225 [==============================] - 1s 3ms/step - loss: 1.8497 - val_loss: 1.9161\n",
      "Epoch 4/15\n",
      "225/225 [==============================] - 1s 2ms/step - loss: 1.7765 - val_loss: 1.8627\n",
      "Epoch 5/15\n",
      "225/225 [==============================] - 1s 3ms/step - loss: 1.7116 - val_loss: 1.7947\n",
      "Epoch 6/15\n",
      "225/225 [==============================] - 1s 3ms/step - loss: 1.6506 - val_loss: 1.7503\n",
      "Epoch 7/15\n",
      "225/225 [==============================] - 1s 3ms/step - loss: 1.5941 - val_loss: 1.7067\n",
      "Epoch 8/15\n",
      "225/225 [==============================] - 1s 3ms/step - loss: 1.5420 - val_loss: 1.6788\n",
      "Epoch 9/15\n",
      "225/225 [==============================] - 1s 4ms/step - loss: 1.4918 - val_loss: 1.6359\n",
      "Epoch 10/15\n",
      "225/225 [==============================] - 1s 4ms/step - loss: 1.4483 - val_loss: 1.6079\n",
      "Epoch 11/15\n",
      "225/225 [==============================] - 1s 4ms/step - loss: 1.4013 - val_loss: 1.5800\n",
      "Epoch 12/15\n",
      "225/225 [==============================] - 1s 3ms/step - loss: 1.3575 - val_loss: 1.5736\n",
      "Epoch 13/15\n",
      "225/225 [==============================] - 1s 3ms/step - loss: 1.3215 - val_loss: 1.5328\n",
      "Epoch 14/15\n",
      "225/225 [==============================] - 1s 2ms/step - loss: 1.2824 - val_loss: 1.5006\n",
      "Epoch 15/15\n",
      "225/225 [==============================] - 1s 2ms/step - loss: 1.2459 - val_loss: 1.4802\n",
      "CPU times: user 23 s, sys: 7.02 s, total: 30 s\n",
      "Wall time: 14.7 s\n"
     ]
    }
   ],
   "source": [
    "%%time\n",
    "train_model(model)"
   ]
  },
  {
   "attachments": {},
   "cell_type": "markdown",
   "id": "887710d9-a8e4-46da-af51-80837d65ee10",
   "metadata": {},
   "source": [
    "We evaluate our model on the test set and get a mean square error of 1.404, or equivalently RMSE of 1.185. Recall that our baseline model has RMSE of 1.409. Thus, the neural collaborative filtering approach with the additional user and restaurant features clearly improves the performance of a recommender system."
   ]
  },
  {
   "cell_type": "code",
   "execution_count": 45,
   "id": "e44e3fb6-e450-433d-af26-9ab45559e8fe",
   "metadata": {},
   "outputs": [],
   "source": [
    "def test_model(model, df_test=df_test, user_df=user_df, business_df=business_df):\n",
    "    test_inputs = [\n",
    "        df_test['user_id'].values,\n",
    "        df_test['business_id'].values,\n",
    "        df_test[user_df.columns[1:]].values,\n",
    "        df_test[business_df.columns[1:]].values\n",
    "    ]\n",
    "\n",
    "    test_loss = model.evaluate(test_inputs, df_test['stars'].values)\n",
    "    print(f'Test loss (MSE): {round(test_loss, 3)}')"
   ]
  },
  {
   "cell_type": "code",
   "execution_count": 46,
   "id": "36ecff84-6e58-49ff-8fae-057d907857fd",
   "metadata": {},
   "outputs": [
    {
     "name": "stdout",
     "output_type": "stream",
     "text": [
      "63/63 [==============================] - 0s 738us/step - loss: 1.4037\n",
      "Test loss (MSE): 1.404\n"
     ]
    }
   ],
   "source": [
    "test_model(model)"
   ]
  },
  {
   "attachments": {},
   "cell_type": "markdown",
   "id": "6c68a947-210d-4417-b6d9-9c5e144ad290",
   "metadata": {},
   "source": [
    "#### Model Extension 1: Cluster Labels"
   ]
  },
  {
   "attachments": {},
   "cell_type": "markdown",
   "id": "6ebd34d7-de5d-4a76-889d-9b4cf97e077e",
   "metadata": {},
   "source": [
    "We would like to improve the performance of our model even further by adding in new features to the training set. In this section, we will perform clustering on users and businesses. The cluster labels will be used as an additional feature. Note that this method is called a mixed cluster network."
   ]
  },
  {
   "attachments": {},
   "cell_type": "markdown",
   "id": "9da84d22-58cd-465e-b753-601056e05573",
   "metadata": {},
   "source": [
    "First, we prepare our data for this model by scaling `user_df`:"
   ]
  },
  {
   "cell_type": "code",
   "execution_count": 47,
   "id": "bced6409-e817-4053-ab62-95c8220d0c00",
   "metadata": {},
   "outputs": [],
   "source": [
    "def scale(df):\n",
    "    scaler = MinMaxScaler()\n",
    "    return scaler.fit_transform(df)"
   ]
  },
  {
   "cell_type": "code",
   "execution_count": 48,
   "id": "199d82e2-a7e8-480d-b8f0-33245b3321cc",
   "metadata": {},
   "outputs": [],
   "source": [
    "user_df_scaled = scale(user_df)"
   ]
  },
  {
   "attachments": {},
   "cell_type": "markdown",
   "id": "25a8ad0d-04f0-46ba-b747-23b18b44c801",
   "metadata": {},
   "source": [
    "And apply dimensionality reduction using PCA of 10 components:"
   ]
  },
  {
   "cell_type": "code",
   "execution_count": 49,
   "id": "888841cc-ddba-4a2d-baca-520060003626",
   "metadata": {},
   "outputs": [],
   "source": [
    "def pca(df_scaled):\n",
    "    pca = PCA(n_components=10)\n",
    "    return pca.fit_transform(df_scaled)"
   ]
  },
  {
   "cell_type": "code",
   "execution_count": 50,
   "id": "8f0abf61-d1c2-47e6-8013-067bf92d8d76",
   "metadata": {},
   "outputs": [],
   "source": [
    "user_df_pca = pca(user_df_scaled)"
   ]
  },
  {
   "attachments": {},
   "cell_type": "markdown",
   "id": "34f9d39f-f4d2-4ed0-809b-05f989f76f55",
   "metadata": {},
   "source": [
    "We also user DBSCAN and apply hyperparameter tuning on epsilons and the minimum number of samples to find one with the best (highest) silhouette score:"
   ]
  },
  {
   "cell_type": "code",
   "execution_count": 51,
   "id": "bf7207ca-babe-4109-989e-99936f286939",
   "metadata": {},
   "outputs": [],
   "source": [
    "def tune_clusterer(df_pca):\n",
    "    best_score = -1\n",
    "\n",
    "    for eps in np.arange(0.1, 2, 0.1):\n",
    "        for min_samples in range(2, 3):\n",
    "            dbscan = DBSCAN(eps=eps, min_samples=min_samples)\n",
    "            labels = dbscan.fit_predict(df_pca)\n",
    "            n_clusters = len(set(labels)) - (1 if -1 in labels else 0)\n",
    "            if n_clusters > 1:\n",
    "                score = silhouette_score(df_pca, labels)\n",
    "                if score > best_score:\n",
    "                    best_score = score\n",
    "                    best_eps = eps\n",
    "                    best_min_samples = min_samples\n",
    "\n",
    "    print(\"Best Silhouette Score:\", best_score)\n",
    "    print(\"Best eps:\", best_eps)\n",
    "    print(\"Best min_samples:\", best_min_samples)\n",
    "    \n",
    "    return best_eps, best_min_samples"
   ]
  },
  {
   "cell_type": "code",
   "execution_count": 52,
   "id": "281ef3c1-eccc-496a-bd15-12bbaa784224",
   "metadata": {},
   "outputs": [
    {
     "name": "stdout",
     "output_type": "stream",
     "text": [
      "Best Silhouette Score: 0.5545330937146584\n",
      "Best eps: 0.30000000000000004\n",
      "Best min_samples: 2\n",
      "CPU times: user 18.2 s, sys: 5.87 s, total: 24 s\n",
      "Wall time: 23.9 s\n"
     ]
    }
   ],
   "source": [
    "%%time\n",
    "best_eps, best_min_samples = tune_clusterer(user_df_pca)"
   ]
  },
  {
   "attachments": {},
   "cell_type": "markdown",
   "id": "a0dc237f-2894-4c6d-9a41-c78b9f136876",
   "metadata": {},
   "source": [
    "Get cluster label using the tuned hyperparameters above:"
   ]
  },
  {
   "cell_type": "code",
   "execution_count": 53,
   "id": "a1b52564-0e74-4830-9132-c44b57e6d4db",
   "metadata": {},
   "outputs": [],
   "source": [
    "def generate_clusters(df_pca, best_eps, best_min_samples):\n",
    "    dbscan = DBSCAN(eps=best_eps, min_samples=best_min_samples)\n",
    "    labels = dbscan.fit_predict(df_pca)\n",
    "    return labels"
   ]
  },
  {
   "cell_type": "code",
   "execution_count": 54,
   "id": "1dca5e5d-7644-47b4-a2bb-48cdc76513a5",
   "metadata": {},
   "outputs": [
    {
     "data": {
      "text/plain": [
       "array([-1,  0,  1])"
      ]
     },
     "execution_count": 54,
     "metadata": {},
     "output_type": "execute_result"
    }
   ],
   "source": [
    "user_df['user_clusters'] = generate_clusters(user_df_pca, best_eps, best_min_samples)\n",
    "np.unique(user_df['user_clusters'])"
   ]
  },
  {
   "attachments": {},
   "cell_type": "markdown",
   "id": "b55b9d5c-85d5-4f6e-86a3-15731df6072f",
   "metadata": {},
   "source": [
    "Evaluation:"
   ]
  },
  {
   "cell_type": "code",
   "execution_count": 55,
   "id": "e0d2a59a-39ee-43c8-a4c4-12d599815a54",
   "metadata": {},
   "outputs": [
    {
     "name": "stdout",
     "output_type": "stream",
     "text": [
      "Silhouette Score: 0.5545330937146584\n"
     ]
    }
   ],
   "source": [
    "print(f\"Silhouette Score: {silhouette_score(user_df_pca, user_df['user_clusters'])}\")"
   ]
  },
  {
   "attachments": {},
   "cell_type": "markdown",
   "id": "c6434969-7719-4b4d-93d3-94a7d54eabe6",
   "metadata": {},
   "source": [
    "Perform the same procedures for `business_df`:"
   ]
  },
  {
   "cell_type": "code",
   "execution_count": 56,
   "id": "f4542dcc-a244-493a-af81-4f1e2a7770d4",
   "metadata": {},
   "outputs": [
    {
     "name": "stdout",
     "output_type": "stream",
     "text": [
      "Best Silhouette Score: 0.11581093584722416\n",
      "Best eps: 1.9000000000000001\n",
      "Best min_samples: 2\n",
      "Silhouette Score: 0.11581093584722416\n",
      "CPU times: user 26.1 s, sys: 4.05 s, total: 30.2 s\n",
      "Wall time: 16.5 s\n"
     ]
    }
   ],
   "source": [
    "%%time\n",
    "business_df_scaled = scale(business_df)\n",
    "business_df_pca = pca(business_df_scaled)\n",
    "best_eps, best_min_samples = tune_clusterer(business_df_pca)\n",
    "business_df['business_clusters'] = generate_clusters(business_df_pca, best_eps, best_min_samples)\n",
    "print(f\"Silhouette Score: {silhouette_score(business_df_pca, business_df['business_clusters'])}\")"
   ]
  },
  {
   "attachments": {},
   "cell_type": "markdown",
   "id": "4742bf88-caaa-4829-a74b-2c8218f3528d",
   "metadata": {},
   "source": [
    "#### Model Extension 2: Sentiment Labels"
   ]
  },
  {
   "attachments": {},
   "cell_type": "markdown",
   "id": "a6c6e898-4fe5-4595-a7ac-938069ecf1a5",
   "metadata": {},
   "source": [
    "Like the first extension we added, we will now perform sentiment analysis on review text and use the sentiment labels as another feature into the NCF model. We thought about using transfer learning on BERT to fine tune our own sentiment analysis model; however, transfer learning requires labeled data (the ground truth sentiment labels), which we do not have. So instaed, we will be using a pre-trained model. Note that transformers are really slow, so we will be using the Python library named `TextBlob` which is faster."
   ]
  },
  {
   "cell_type": "code",
   "execution_count": 57,
   "id": "9a606570-ab98-44b8-ade0-1a3f0dfef3ac",
   "metadata": {},
   "outputs": [],
   "source": [
    "def get_sentiment(text):\n",
    "    blob = TextBlob(text)\n",
    "    return blob.sentiment.polarity"
   ]
  },
  {
   "cell_type": "code",
   "execution_count": 58,
   "id": "eedf0c30-2740-46a4-a57f-ecab4270ab9e",
   "metadata": {},
   "outputs": [
    {
     "name": "stdout",
     "output_type": "stream",
     "text": [
      "CPU times: user 3.64 s, sys: 68.3 ms, total: 3.71 s\n",
      "Wall time: 3.77 s\n"
     ]
    }
   ],
   "source": [
    "%%time\n",
    "review_df['review_sentiment'] = review_text.apply(get_sentiment)"
   ]
  },
  {
   "cell_type": "code",
   "execution_count": 59,
   "id": "3f599089-8c43-42c2-b04a-cc6e03df25bc",
   "metadata": {},
   "outputs": [
    {
     "data": {
      "text/plain": [
       "0    0.535714\n",
       "1    0.159977\n",
       "2    0.733333\n",
       "3   -0.551515\n",
       "4    0.097064\n",
       "Name: review_sentiment, dtype: float64"
      ]
     },
     "execution_count": 59,
     "metadata": {},
     "output_type": "execute_result"
    }
   ],
   "source": [
    "review_df['review_sentiment'].head()"
   ]
  },
  {
   "cell_type": "code",
   "execution_count": 60,
   "id": "c207d7c3-c4f6-4167-8caf-a23c3136c0ec",
   "metadata": {},
   "outputs": [
    {
     "data": {
      "text/plain": [
       "count    11946.000000\n",
       "mean         0.260394\n",
       "std          0.230792\n",
       "min         -1.000000\n",
       "25%          0.130695\n",
       "50%          0.264103\n",
       "75%          0.398842\n",
       "max          1.000000\n",
       "Name: review_sentiment, dtype: float64"
      ]
     },
     "execution_count": 60,
     "metadata": {},
     "output_type": "execute_result"
    }
   ],
   "source": [
    "review_df['review_sentiment'].describe()"
   ]
  },
  {
   "attachments": {},
   "cell_type": "markdown",
   "id": "daedaa41-6ad8-480b-9fbe-3938176ed06d",
   "metadata": {},
   "source": [
    "#### NCF Model with the Two Extensions: Cluster and Sentiment Labels"
   ]
  },
  {
   "cell_type": "code",
   "execution_count": 61,
   "id": "0a715b1d-f79e-47c7-b802-4ef76adbd988",
   "metadata": {},
   "outputs": [],
   "source": [
    "df = pd.merge(review_df, user_df, on='user_id')\n",
    "df = pd.merge(df, business_df, on='business_id')"
   ]
  },
  {
   "cell_type": "code",
   "execution_count": 62,
   "id": "08864f35-1534-447a-8347-9769f9eee413",
   "metadata": {},
   "outputs": [],
   "source": [
    "df_train, df_test = train_test_split(df, test_size=0.2, random_state=42)"
   ]
  },
  {
   "cell_type": "code",
   "execution_count": 63,
   "id": "3aa2844f-ca8c-4508-9402-7488c5f88a7d",
   "metadata": {},
   "outputs": [],
   "source": [
    "df_train, df_test = feature_scaling(df_train, df_test)"
   ]
  },
  {
   "cell_type": "code",
   "execution_count": 64,
   "id": "b2e35824-18d6-4c0c-ad14-2676da4addff",
   "metadata": {},
   "outputs": [],
   "source": [
    "model = build_model(df=df, user_df=user_df, business_df=business_df)"
   ]
  },
  {
   "cell_type": "code",
   "execution_count": 65,
   "id": "dd81856b-c10a-40fa-94b0-c61b23773b29",
   "metadata": {},
   "outputs": [
    {
     "name": "stdout",
     "output_type": "stream",
     "text": [
      "Epoch 1/15\n",
      "269/269 [==============================] - 1s 3ms/step - loss: 4.2128 - val_loss: 1.9148\n",
      "Epoch 2/15\n",
      "269/269 [==============================] - 1s 2ms/step - loss: 1.7431 - val_loss: 1.8390\n",
      "Epoch 3/15\n",
      "269/269 [==============================] - 1s 3ms/step - loss: 1.6692 - val_loss: 1.7998\n",
      "Epoch 4/15\n",
      "269/269 [==============================] - 1s 3ms/step - loss: 1.6097 - val_loss: 1.7651\n",
      "Epoch 5/15\n",
      "269/269 [==============================] - 1s 3ms/step - loss: 1.5537 - val_loss: 1.7360\n",
      "Epoch 6/15\n",
      "269/269 [==============================] - 1s 3ms/step - loss: 1.5043 - val_loss: 1.7086\n",
      "Epoch 7/15\n",
      "269/269 [==============================] - 1s 3ms/step - loss: 1.4576 - val_loss: 1.6836\n",
      "Epoch 8/15\n",
      "269/269 [==============================] - 1s 3ms/step - loss: 1.4108 - val_loss: 1.6561\n",
      "Epoch 9/15\n",
      "269/269 [==============================] - 1s 3ms/step - loss: 1.3663 - val_loss: 1.6374\n",
      "Epoch 10/15\n",
      "269/269 [==============================] - 1s 3ms/step - loss: 1.3186 - val_loss: 1.6051\n",
      "Epoch 11/15\n",
      "269/269 [==============================] - 1s 3ms/step - loss: 1.2747 - val_loss: 1.5804\n",
      "Epoch 12/15\n",
      "269/269 [==============================] - 1s 3ms/step - loss: 1.2314 - val_loss: 1.5585\n",
      "Epoch 13/15\n",
      "269/269 [==============================] - 1s 3ms/step - loss: 1.1947 - val_loss: 1.5326\n",
      "Epoch 14/15\n",
      "269/269 [==============================] - 1s 3ms/step - loss: 1.1537 - val_loss: 1.5125\n",
      "Epoch 15/15\n",
      "269/269 [==============================] - 1s 3ms/step - loss: 1.1194 - val_loss: 1.4951\n",
      "CPU times: user 24.8 s, sys: 8.61 s, total: 33.4 s\n",
      "Wall time: 12.2 s\n"
     ]
    }
   ],
   "source": [
    "%%time\n",
    "train_model(model, df_train=df_train, user_df=user_df, business_df=business_df)"
   ]
  },
  {
   "cell_type": "code",
   "execution_count": 66,
   "id": "903b4fa9-6352-4442-9c75-1c0b49c5a9b3",
   "metadata": {},
   "outputs": [
    {
     "name": "stdout",
     "output_type": "stream",
     "text": [
      "75/75 [==============================] - 0s 708us/step - loss: 1.3760\n",
      "Test loss (MSE): 1.376\n"
     ]
    }
   ],
   "source": [
    "test_model(model, df_test=df_test, user_df=user_df, business_df=business_df)"
   ]
  },
  {
   "attachments": {},
   "cell_type": "markdown",
   "id": "4e162f5e-2683-4733-894c-d6328f8caa07",
   "metadata": {},
   "source": [
    "This NCF model with the extensions performs slightly better than the NCF model without the extensions (RMSE 1.173 versus 1.185)."
   ]
  },
  {
   "attachments": {},
   "cell_type": "markdown",
   "id": "dafb1ba7",
   "metadata": {},
   "source": [
    "## Conclusion and Future Work\n",
    "\n",
    "In this project, we explore a neural collaborative filtering (NCF) approach to build a restaurant recommender system. We create two NCF models, one with and another without the extended cluster and sentiment labels. Both incorporate additional features associated with users and restaurants. We compare our two models to a baseline model using a standard user-based collaborative filtering approach. The results show that the NCF models lead to an over 17% decrease in the test root mean squared error. (The full test results are shown in Table 1 below.) This is likely because, unlike the standard approach which suffers from sparse data, the neural network architecture can incorporate additional features on users and items and is able to learn individual preferences among the users.\n",
    "\n",
    "However, there are multiple areas of possible improvement. First, an extensive finetuning process on the NCF network can be further made. Additionally, we would like to finetune and explore other approaches for clustering and sentiment analysis tasks, such as KMeans clustering. Moreover, this work has been focused solely on collaborative filtering, and in the future, we would like to compare our NCF models with the content-based, or hybrid, filtering approaches. \n",
    "\n",
    "**Table 1**:\n",
    "| Model | Test RMSE |\n",
    "|:----:|:-----:|\n",
    "| Baseline | 1.409 |\n",
    "| NCF | 1.185 |\n",
    "| NCF with Extended Fetures | 1.173 |"
   ]
  },
  {
   "cell_type": "code",
   "execution_count": 67,
   "id": "41668b24-b830-4152-bd1f-27bb9c37a07e",
   "metadata": {},
   "outputs": [
    {
     "name": "stdout",
     "output_type": "stream",
     "text": [
      "Time elapsed running notebook: 0:07:20.770069\n"
     ]
    }
   ],
   "source": [
    "t1 = datetime.now()\n",
    "print(f'Time elapsed running notebook: {t1 - t0}')"
   ]
  }
 ],
 "metadata": {
  "kernelspec": {
   "display_name": "Python 3 (ipykernel)",
   "language": "python",
   "name": "python3"
  },
  "language_info": {
   "codemirror_mode": {
    "name": "ipython",
    "version": 3
   },
   "file_extension": ".py",
   "mimetype": "text/x-python",
   "name": "python",
   "nbconvert_exporter": "python",
   "pygments_lexer": "ipython3",
   "version": "3.10.8"
  },
  "vscode": {
   "interpreter": {
    "hash": "8c825be55757a755ec7f5c4bfe234e5c4b54b398decb7368d4d838abb1da92b6"
   }
  }
 },
 "nbformat": 4,
 "nbformat_minor": 5
}
